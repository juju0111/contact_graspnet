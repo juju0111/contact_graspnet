{
 "cells": [
  {
   "cell_type": "code",
   "execution_count": 1,
   "id": "cc1d5394",
   "metadata": {
    "scrolled": true
   },
   "outputs": [
    {
     "name": "stdout",
     "output_type": "stream",
     "text": [
      "*********************** \u001b[92mLogical States\u001b[0m ***********************\n",
      "OrderedDict([('ben_cube0',\n",
      "              {'on': \u001b[95mObject\u001b[0m(name=table, pos=[ 1.    -0.6    0.043])}),\n",
      "             ('bottle0',\n",
      "              {'on': \u001b[95mObject\u001b[0m(name=table, pos=[ 1.    -0.6    0.043])}),\n",
      "             ('bottle1',\n",
      "              {'on': \u001b[95mObject\u001b[0m(name=table, pos=[ 1.    -0.6    0.043])}),\n",
      "             ('ben_cube1',\n",
      "              {'on': \u001b[95mObject\u001b[0m(name=table, pos=[ 1.    -0.6    0.043])}),\n",
      "             ('table',\n",
      "              {'static': True,\n",
      "               'support': [\u001b[95mObject\u001b[0m(name=ben_cube0, pos=[0.70992371 0.3937608  0.84779998]),\n",
      "                           \u001b[95mObject\u001b[0m(name=bottle0, pos=[ 0.41387491 -0.06533773  0.83593754]),\n",
      "                           \u001b[95mObject\u001b[0m(name=bottle1, pos=[ 0.69991623 -0.04910857  0.87515735]),\n",
      "                           \u001b[95mObject\u001b[0m(name=ben_cube1, pos=[0.63735095 0.07231237 0.84779998])]}),\n",
      "             ('robotiq140_gripper', {'holding': None})])\n",
      "***************************************************************\n",
      "\n",
      "*********************** \u001b[92mLogical States\u001b[0m ***********************\n",
      "OrderedDict([('ben_cube0',\n",
      "              {'on': \u001b[95mObject\u001b[0m(name=table, pos=[ 1.    -0.6    0.043])}),\n",
      "             ('bottle0',\n",
      "              {'on': \u001b[95mObject\u001b[0m(name=table, pos=[ 1.    -0.6    0.043])}),\n",
      "             ('bottle1',\n",
      "              {'on': \u001b[95mObject\u001b[0m(name=table, pos=[ 1.    -0.6    0.043])}),\n",
      "             ('ben_cube1',\n",
      "              {'on': \u001b[95mObject\u001b[0m(name=table, pos=[ 1.    -0.6    0.043])}),\n",
      "             ('table',\n",
      "              {'static': True,\n",
      "               'support': [\u001b[95mObject\u001b[0m(name=ben_cube0, pos=[ 0.88580613 -0.35685635  0.84779998]),\n",
      "                           \u001b[95mObject\u001b[0m(name=bottle0, pos=[0.87873368 0.41852429 0.87515735]),\n",
      "                           \u001b[95mObject\u001b[0m(name=bottle1, pos=[0.56191692 0.25688255 0.87515735]),\n",
      "                           \u001b[95mObject\u001b[0m(name=ben_cube1, pos=[ 0.76592224 -0.55044894  0.84779998])]}),\n",
      "             ('robotiq140_gripper', {'holding': None})])\n",
      "***************************************************************\n",
      "\n"
     ]
    }
   ],
   "source": [
    "from pytamp.benchmark import Rearrange1\n",
    "from pytamp.utils.making_scene_utils import load_mesh, get_obj_name, Make_Scene\n",
    "from pykin.utils.mesh_utils import get_object_mesh, get_object_mesh_acronym\n",
    "from pykin.utils import plot_utils as p_utils\n",
    "\n",
    "import easydict\n",
    "from pytamp.action.rearrangement import RearrangementAction\n",
    "\n",
    "\n",
    "def make_scene_():\n",
    "    def custom_parser():\n",
    "        # object는 parser.add_argument( ~ , nargs=\"+\") , nargs=\"+\" 때문에 list로 arg 셋팅함\n",
    "        args = easydict.EasyDict({\n",
    "            \"objects\" : [\n",
    "                        # \"/home/juju/contact_graspnet/acronym/grasps/Candle_b94fcdffbd1befa57f5e345e9a3e5d44_0.012740999337464653.h5\", \n",
    "                        # \"/home/juju/contact_graspnet/acronym/grasps/Canister_714320da4aafcb4a47be2353d2b2403b_0.00023318612778400807.h5\", \n",
    "                        # \"/home/juju/contact_graspnet/acronym/grasps/Bowl_2efc35a3625fa50961a9876fa6384765_0.012449533111417973.h5\",\n",
    "                        # \"/home/juju/contact_graspnet/acronym/grasps/Xbox360_435f39e98d2260f0d6e21b8525c3f8bb_0.002061950217848804.h5\"\n",
    "                        ],\n",
    "            \n",
    "            \"support\" : \"/home/juju/contact_graspnet/acronym/grasps/3Shelves_29b66fc9db2f1558e0e89fd83955713c_0.0025867867973150068.h5\",\n",
    "            \"num_grasps\" : 5,\n",
    "            \"mesh_root\" : '/home/juju/contact_graspnet/acronym/',\n",
    "            \"support_scale\" : 0.025\n",
    "        })\n",
    "        return args\n",
    "\n",
    "    obj_dict = {}\n",
    "\n",
    "    args = custom_parser()\n",
    "\n",
    "    args.objects.append('ben_cube.stl')\n",
    "    args.objects.append('bottle.stl')\n",
    "    args.objects.append('bottle.stl')\n",
    "    args.objects.append('ben_cube.stl')\n",
    "\n",
    "    obj_dict = {}\n",
    "    object_meshes=[]\n",
    "    object_names=[]\n",
    "\n",
    "    for o in args.objects:\n",
    "        if '.h5' in o:\n",
    "            object_meshes.append(load_mesh(o, mesh_root_dir=args.mesh_root))\n",
    "            object_names.append(get_obj_name(obj_dict, o))\n",
    "        if '.stl' in o:\n",
    "            if 'cube' in o:\n",
    "#                 object_meshes.append(get_object_mesh(o, 0.075))\n",
    "                object_meshes.append(get_object_mesh(o, 0.075))\n",
    "                object_names.append(get_obj_name(obj_dict, o))\n",
    "            else:\n",
    "                object_meshes.append(get_object_mesh(o))\n",
    "                object_names.append(get_obj_name(obj_dict, o))\n",
    "\n",
    "    # for PYTAMP \n",
    "    support_mesh = get_object_mesh(\"ben_table.stl\", scale=[1.0, 1.5, 1.0])\n",
    "    init_scene = Make_Scene.random_arrangement(object_names, object_meshes, support_mesh)\n",
    "    goal_scene = Make_Scene.random_arrangement(object_names, object_meshes, support_mesh, for_goal_scene=True)\n",
    "    rearrangement_scene = Rearrange1('doosan', object_names, init_scene, goal_scene, is_pyplot=False)\n",
    "\n",
    "    return rearrangement_scene\n",
    "\n",
    "rearrangement1 = make_scene_()\n",
    "\n",
    "\n",
    "ArrangementAction = RearrangementAction(rearrangement1.scene_mngr)\n",
    "\n"
   ]
  },
  {
   "cell_type": "code",
   "execution_count": 2,
   "id": "1f3da76c",
   "metadata": {},
   "outputs": [
    {
     "data": {
      "text/plain": [
       "array([[-0.82564542, -0.56418936,  0.        ,  0.88580613],\n",
       "       [ 0.56418936, -0.82564542,  0.        , -0.35685635],\n",
       "       [ 0.        ,  0.        ,  1.        ,  0.84779998],\n",
       "       [ 0.        ,  0.        ,  0.        ,  1.        ]])"
      ]
     },
     "execution_count": 2,
     "metadata": {},
     "output_type": "execute_result"
    }
   ],
   "source": [
    "rearrangement1.goal_scene._poses['ben_cube0']"
   ]
  },
  {
   "cell_type": "code",
   "execution_count": null,
   "id": "69c578c9",
   "metadata": {},
   "outputs": [],
   "source": []
  },
  {
   "cell_type": "code",
   "execution_count": 3,
   "id": "edf488b3",
   "metadata": {
    "scrolled": true
   },
   "outputs": [
    {
     "ename": "AttributeError",
     "evalue": "'list' object has no attribute 'items'",
     "output_type": "error",
     "traceback": [
      "\u001b[0;31m---------------------------------------------------------------------------\u001b[0m",
      "\u001b[0;31mAttributeError\u001b[0m                            Traceback (most recent call last)",
      "Cell \u001b[0;32mIn[3], line 5\u001b[0m\n\u001b[1;32m      3\u001b[0m actions \u001b[38;5;241m=\u001b[39m \u001b[38;5;28mlist\u001b[39m(ArrangementAction\u001b[38;5;241m.\u001b[39mget_possible_actions_level_1())\n\u001b[1;32m      4\u001b[0m \u001b[38;5;28;01mfor\u001b[39;00m i \u001b[38;5;129;01min\u001b[39;00m actions:\n\u001b[0;32m----> 5\u001b[0m     \u001b[38;5;28;01mfor\u001b[39;00m idx, transition_scene \u001b[38;5;129;01min\u001b[39;00m \u001b[38;5;28menumerate\u001b[39m(ArrangementAction\u001b[38;5;241m.\u001b[39mget_possible_transitions(scene\u001b[38;5;241m=\u001b[39mArrangementAction\u001b[38;5;241m.\u001b[39mscene_mngr\u001b[38;5;241m.\u001b[39mscene, goal_location\u001b[38;5;241m=\u001b[39mi)):\n\u001b[1;32m      6\u001b[0m         \u001b[38;5;28mprint\u001b[39m(i)\n\u001b[1;32m      7\u001b[0m         fig, ax \u001b[38;5;241m=\u001b[39m p_utils\u001b[38;5;241m.\u001b[39minit_3d_figure(name\u001b[38;5;241m=\u001b[39m\u001b[38;5;124m\"\u001b[39m\u001b[38;5;124mRearrangement 1\u001b[39m\u001b[38;5;124m\"\u001b[39m)\n",
      "File \u001b[0;32m~/anaconda3/envs/contact_graspnet/lib/python3.8/site-packages/pytamp/action/rearrangement.py:108\u001b[0m, in \u001b[0;36mRearrangementAction.get_possible_transitions\u001b[0;34m(self, scene, goal_location)\u001b[0m\n\u001b[1;32m    105\u001b[0m \u001b[38;5;28;01mif\u001b[39;00m \u001b[38;5;129;01mnot\u001b[39;00m goal_location:\n\u001b[1;32m    106\u001b[0m     \u001b[38;5;167;01mValueError\u001b[39;00m(\u001b[38;5;124m\"\u001b[39m\u001b[38;5;124mNot found any action!!\u001b[39m\u001b[38;5;124m\"\u001b[39m)\n\u001b[0;32m--> 108\u001b[0m \u001b[38;5;28;01mfor\u001b[39;00m name, pose \u001b[38;5;129;01min\u001b[39;00m \u001b[43mgoal_location\u001b[49m\u001b[38;5;241;43m.\u001b[39;49m\u001b[43mitems\u001b[49m():\n\u001b[1;32m    109\u001b[0m     next_scene \u001b[38;5;241m=\u001b[39m deepcopy(scene)\n\u001b[1;32m    110\u001b[0m     \u001b[38;5;28;01mif\u001b[39;00m pose \u001b[38;5;129;01mis\u001b[39;00m \u001b[38;5;129;01mnot\u001b[39;00m \u001b[38;5;28;01mNone\u001b[39;00m:\n",
      "\u001b[0;31mAttributeError\u001b[0m: 'list' object has no attribute 'items'"
     ]
    }
   ],
   "source": [
    "from copy import deepcopy\n",
    "\n",
    "actions = list(ArrangementAction.get_possible_actions_level_1())\n",
    "for i in actions:\n",
    "    for idx, transition_scene in enumerate(ArrangementAction.get_possible_transitions(scene=ArrangementAction.scene_mngr.scene, goal_location=i)):\n",
    "        print(i)\n",
    "#         fig, ax = p_utils.init_3d_figure(name=\"Rearrangement 1\")\n",
    "#         ArrangementAction.scene_mngr.render_scene(ax,transition_scene)\n",
    "        \n",
    "#         ArrangementAction.scene_mngr.show()"
   ]
  },
  {
   "cell_type": "code",
   "execution_count": 12,
   "id": "4f1c456a",
   "metadata": {},
   "outputs": [],
   "source": [
    "transition_scene = ArrangementAction.get_possible_transitions(i)"
   ]
  },
  {
   "cell_type": "code",
   "execution_count": 3,
   "id": "3cb2cc88",
   "metadata": {
    "scrolled": true
   },
   "outputs": [
    {
     "name": "stdout",
     "output_type": "stream",
     "text": [
      "{'table': \u001b[95mObject\u001b[0m(name=table, pos=[ 1.    -0.6    0.043]), 'ben_cube0': \u001b[95mObject\u001b[0m(name=ben_cube0, pos=[ 0.8052353  -0.06686284  0.84779998]), 'bottle0': \u001b[95mObject\u001b[0m(name=bottle0, pos=[ 0.70868156 -0.40372074  0.83593754]), 'bottle1': \u001b[95mObject\u001b[0m(name=bottle1, pos=[ 0.81645215 -0.51892641  0.83593754]), 'ben_cube1': \u001b[95mObject\u001b[0m(name=ben_cube1, pos=[0.42173466 0.33473607 0.84779998])}\n"
     ]
    },
    {
     "data": {
      "image/png": "[encoded data removed]",
      "text/plain": [
       "<Figure size 1200x800 with 1 Axes>"
      ]
     },
     "metadata": {},
     "output_type": "display_data"
    }
   ],
   "source": [
    "fig, ax = p_utils.init_3d_figure(name=\"Rearrangement 1\")\n",
    "\n",
    "# init_scene\n",
    "ArrangementAction.scene_mngr.render_scene(ax)\n",
    "# ArrangementAction.render_axis(rearrangement1.scene_mngr)\n",
    "ArrangementAction.scene_mngr.show()"
   ]
  },
  {
   "cell_type": "code",
   "execution_count": 3,
   "id": "538b9bee",
   "metadata": {},
   "outputs": [
    {
     "data": {
      "text/plain": [
       "0"
      ]
     },
     "execution_count": 3,
     "metadata": {},
     "output_type": "execute_result"
    }
   ],
   "source": [
    "rearrangement1.benchmark_config[rearrangement1.scene_mngr.scene.bench_num]\n",
    "rearrangement1.scene_mngr.scene.bench_num"
   ]
  },
  {
   "cell_type": "code",
   "execution_count": 6,
   "id": "2359ac22",
   "metadata": {
    "scrolled": true
   },
   "outputs": [
    {
     "name": "stdout",
     "output_type": "stream",
     "text": [
      "{'table': \u001b[95mObject\u001b[0m(name=table, pos=[ 1.    -0.6    0.043]), 'ben_cube0': \u001b[95mObject\u001b[0m(name=ben_cube0, pos=[0.78080894 0.5024409  0.84779998]), 'bottle0': \u001b[95mObject\u001b[0m(name=bottle0, pos=[ 0.61328548 -0.40023773  0.87515735]), 'bottle1': \u001b[95mObject\u001b[0m(name=bottle1, pos=[ 0.77544779 -0.24791253  0.87515735]), 'ben_cube1': \u001b[95mObject\u001b[0m(name=ben_cube1, pos=[0.95402742 0.28137147 0.84779998])}\n"
     ]
    },
    {
     "data": {
      "image/png": "[encoded data removed]",
      "text/plain": [
       "<Figure size 1200x800 with 1 Axes>"
      ]
     },
     "metadata": {},
     "output_type": "display_data"
    }
   ],
   "source": [
    "fig, ax = p_utils.init_3d_figure(name=\"Rearrangement 1\")\n",
    "\n",
    "# init_scene\n",
    "rearrangement1.goal_scene_mngr.render_scene(ax)\n",
    "rearrangement1.render_axis(rearrangement1.scene_mngr)\n",
    "rearrangement1.goal_scene_mngr.show()"
   ]
  },
  {
   "cell_type": "code",
   "execution_count": 4,
   "id": "2a6e2962",
   "metadata": {},
   "outputs": [
    {
     "data": {
      "text/plain": [
       "(array([[-0.28999217, -0.95702902,  0.        ,  0.62965436],\n",
       "        [-0.95702902,  0.28999217,  0.        ,  0.07357164],\n",
       "        [ 0.        ,  0.        , -1.        ,  0.9054426 ],\n",
       "        [ 0.        ,  0.        ,  0.        ,  1.        ]]),\n",
       " 'bottle1')"
      ]
     },
     "execution_count": 4,
     "metadata": {},
     "output_type": "execute_result"
    }
   ],
   "source": [
    "ArrangementAction.scene_mngr.scene.objs['bottle0'].h_mat, name"
   ]
  },
  {
   "cell_type": "code",
   "execution_count": 19,
   "id": "f08dce03",
   "metadata": {},
   "outputs": [],
   "source": [
    "import numpy as np\n",
    "bound = np.zeros((4,4))\n",
    "bound[2,3] += 0.005\n",
    "ArrangementAction.scene_mngr.set_object_pose(name,ArrangementAction.scene_mngr.scene.objs['bottle0'].h_mat+bound)"
   ]
  },
  {
   "cell_type": "code",
   "execution_count": 27,
   "id": "b24b838f",
   "metadata": {},
   "outputs": [],
   "source": [
    "obj_name = 'bottle0'\n",
    "goal_pose = ArrangementAction.scene_mngr.scene.objs['bottle1'].h_mat+bound"
   ]
  },
  {
   "cell_type": "code",
   "execution_count": 28,
   "id": "1d30660e",
   "metadata": {},
   "outputs": [
    {
     "data": {
      "text/plain": [
       "(True, {('bottle0', 'bottle1')})"
      ]
     },
     "execution_count": 28,
     "metadata": {},
     "output_type": "execute_result"
    }
   ],
   "source": [
    "ArrangementAction.scene_mngr.set_object_pose(obj_name,goal_pose)\n",
    "result, _ = ArrangementAction.scene_mngr.obj_collision_mngr.in_collision_internal(return_names=True)\n",
    "\n",
    "result, _ "
   ]
  },
  {
   "cell_type": "code",
   "execution_count": 3,
   "id": "e66875a3",
   "metadata": {},
   "outputs": [],
   "source": [
    "import numpy as np\n",
    "\n",
    "bound = np.zeros((4,4))\n",
    "bound[2,3] += 0.005"
   ]
  },
  {
   "cell_type": "markdown",
   "id": "d3b23678",
   "metadata": {},
   "source": [
    "## Object action test"
   ]
  },
  {
   "cell_type": "code",
   "execution_count": 7,
   "id": "6bca0a32",
   "metadata": {},
   "outputs": [
    {
     "name": "stdout",
     "output_type": "stream",
     "text": [
      "{'table': \u001b[95mObject\u001b[0m(name=table, pos=[ 1.    -0.6    0.043]), 'ben_cube0': \u001b[95mObject\u001b[0m(name=ben_cube0, pos=[ 0.8052353  -0.06686284  0.84779998]), 'bottle0': \u001b[95mObject\u001b[0m(name=bottle0, pos=[ 0.70868156 -0.40372074  0.83593754]), 'bottle1': \u001b[95mObject\u001b[0m(name=bottle1, pos=[ 0.81645215 -0.51892641  0.83593754]), 'ben_cube1': \u001b[95mObject\u001b[0m(name=ben_cube1, pos=[0.42173466 0.33473607 0.84779998])}\n"
     ]
    },
    {
     "data": {
      "image/png": "[encoded data removed]",
      "text/plain": [
       "<Figure size 1200x800 with 1 Axes>"
      ]
     },
     "metadata": {},
     "output_type": "display_data"
    }
   ],
   "source": [
    "fig, ax = p_utils.init_3d_figure(name=\"Rearrangement 1\")\n",
    "ArrangementAction.scene_mngr.render_scene(ax)\n",
    "\n",
    "ArrangementAction.scene_mngr.show()"
   ]
  },
  {
   "cell_type": "code",
   "execution_count": 6,
   "id": "7df5d6b2",
   "metadata": {},
   "outputs": [
    {
     "name": "stdout",
     "output_type": "stream",
     "text": [
      "*********************** \u001b[92mScene\u001b[0m ***********************\n",
      "{'ben_cube0': \u001b[95mObject\u001b[0m(name=ben_cube0, pos=[ 0.8052353  -0.06686284  0.84779998]),\n",
      " 'ben_cube1': \u001b[95mObject\u001b[0m(name=ben_cube1, pos=[0.42173466 0.33473607 0.84779998]),\n",
      " 'bottle0': \u001b[95mObject\u001b[0m(name=bottle0, pos=[ 0.70868156 -0.40372074  0.83593754]),\n",
      " 'bottle1': \u001b[95mObject\u001b[0m(name=bottle1, pos=[ 0.81645215 -0.51892641  0.83593754]),\n",
      " 'table': \u001b[95mObject\u001b[0m(name=table, pos=[ 1.    -0.6    0.043])}\n",
      "doosan Transform(\u001b[95mpos\u001b[0m=[0.    0.    0.913], \u001b[95mrot\u001b[0m=[1. 0. 0. 0.])\n",
      "robotiq140_gripper [[-9.99999959e-01  2.03631704e-04 -2.03756161e-04  5.15974741e-01]\n",
      " [ 2.03714682e-04  9.99999896e-01 -4.07304903e-04  3.89836899e-02]\n",
      " [ 2.03673199e-04 -4.07346395e-04 -9.99999896e-01  1.54389490e+00]\n",
      " [ 0.00000000e+00  0.00000000e+00  0.00000000e+00  1.00000000e+00]]\n",
      "***************************************************************\n",
      "\n"
     ]
    }
   ],
   "source": [
    "ArrangementAction.scene_mngr.scene.show_scene_info()"
   ]
  },
  {
   "cell_type": "code",
   "execution_count": 11,
   "id": "2b7f4ef6",
   "metadata": {},
   "outputs": [
    {
     "data": {
      "text/plain": [
       "array([[ 0.        ,  0.        , -1.        ,  0.84779998],\n",
       "       [ 0.94871328,  0.3161378 ,  0.        , -0.80160613],\n",
       "       [ 0.3161378 , -0.94871328,  0.        , -0.03672949],\n",
       "       [ 0.        ,  0.        ,  0.        ,  1.        ]])"
      ]
     },
     "execution_count": 11,
     "metadata": {},
     "output_type": "execute_result"
    }
   ],
   "source": [
    "from pykin.utils import transform_utils as t_utils\n",
    "origin = ArrangementAction.scene_mngr.scene.objs[name].h_mat\n",
    "t_utils.get_inverse_homogeneous(origin)"
   ]
  },
  {
   "cell_type": "code",
   "execution_count": 12,
   "id": "54dfda46",
   "metadata": {},
   "outputs": [],
   "source": [
    "c_T_w = t_utils.get_inverse_homogeneous(origin)\n",
    "w_T_g = ArrangementAction.scene_mngr.scene.goal_object_poses[name]\n",
    "\n",
    "c_T_g = c_T_w.dot(w_T_g)"
   ]
  },
  {
   "cell_type": "code",
   "execution_count": 13,
   "id": "e0d54e6a",
   "metadata": {},
   "outputs": [
    {
     "data": {
      "text/plain": [
       "array([[ 0.        ,  0.        , -1.        ,  0.        ],\n",
       "       [-0.69669138, -0.71737098,  0.        ,  0.27406913],\n",
       "       [-0.71737098,  0.69669138,  0.        , -0.25329325],\n",
       "       [ 0.        ,  0.        ,  0.        ,  1.        ]])"
      ]
     },
     "execution_count": 13,
     "metadata": {},
     "output_type": "execute_result"
    }
   ],
   "source": [
    "c_T_g"
   ]
  },
  {
   "cell_type": "code",
   "execution_count": 15,
   "id": "f640df4b",
   "metadata": {},
   "outputs": [
    {
     "data": {
      "text/plain": [
       "array([[-0.88774845, -0.4603289 ,  0.        ,  0.95204342],\n",
       "       [ 0.4603289 , -0.88774845,  0.        ,  0.54551852],\n",
       "       [ 0.        ,  0.        ,  1.        ,  0.84779998],\n",
       "       [ 0.        ,  0.        ,  0.        ,  1.        ]])"
      ]
     },
     "execution_count": 15,
     "metadata": {},
     "output_type": "execute_result"
    }
   ],
   "source": [
    "w_T_g"
   ]
  },
  {
   "cell_type": "code",
   "execution_count": 18,
   "id": "65a70f1d",
   "metadata": {},
   "outputs": [
    {
     "data": {
      "text/plain": [
       "array([[ 0.        ,  0.        , -1.        ,  0.84779998],\n",
       "       [ 0.94871328,  0.3161378 ,  0.        , -0.80160613],\n",
       "       [ 0.3161378 , -0.94871328,  0.        , -0.03672949],\n",
       "       [ 0.        ,  0.        ,  0.        ,  1.        ]])"
      ]
     },
     "execution_count": 18,
     "metadata": {},
     "output_type": "execute_result"
    }
   ],
   "source": [
    "c_T_w"
   ]
  },
  {
   "cell_type": "code",
   "execution_count": 19,
   "id": "eacc8c8f",
   "metadata": {},
   "outputs": [
    {
     "data": {
      "text/plain": [
       "array([[ 0.        ,  0.94871328,  0.3161378 ,  0.77210596],\n",
       "       [ 0.        ,  0.3161378 , -0.94871328,  0.21857224],\n",
       "       [-1.        ,  0.        ,  0.        ,  0.84779998],\n",
       "       [ 0.        ,  0.        ,  0.        ,  1.        ]])"
      ]
     },
     "execution_count": 19,
     "metadata": {},
     "output_type": "execute_result"
    }
   ],
   "source": [
    "origin"
   ]
  },
  {
   "cell_type": "code",
   "execution_count": 12,
   "id": "3eb43273",
   "metadata": {},
   "outputs": [
    {
     "name": "stdout",
     "output_type": "stream",
     "text": [
      "ben_cube0 [[ 0.         -0.27900744  0.96028894  0.70365156]\n",
      " [ 0.         -0.96028894 -0.27900744  0.11268149]\n",
      " [ 1.          0.          0.          0.84779998]\n",
      " [ 0.          0.          0.          1.        ]]\n",
      "bottle0 [[-0.12951898 -0.86182988  0.49038157  0.85282765]\n",
      " [ 0.07287797  0.48493596  0.87150784 -0.47311008]\n",
      " [-0.98889516  0.14861482  0.          0.83593754]\n",
      " [ 0.          0.          0.          1.        ]]\n",
      "bottle1 [[ 0.62422604 -0.4973614  -0.60247282  0.73923477]\n",
      " [ 0.47119491 -0.37543156  0.7981394  -0.04151663]\n",
      " [-0.62315104 -0.78210152  0.          0.83593754]\n",
      " [ 0.          0.          0.          1.        ]]\n"
     ]
    }
   ],
   "source": [
    "for i in ArrangementAction.scene_mngr.scene.goal_object:\n",
    "    print(i, ArrangementAction.scene_mngr.scene.objs[i].h_mat)"
   ]
  },
  {
   "cell_type": "code",
   "execution_count": 3,
   "id": "6aa6bf40",
   "metadata": {},
   "outputs": [
    {
     "data": {
      "text/plain": [
       "[['ben_cube0'], ['bottle0'], ['bottle1']]"
      ]
     },
     "execution_count": 3,
     "metadata": {},
     "output_type": "execute_result"
    }
   ],
   "source": [
    "action_level_1"
   ]
  },
  {
   "cell_type": "markdown",
   "id": "4137d9b6",
   "metadata": {},
   "source": [
    "# action level 1 test"
   ]
  },
  {
   "cell_type": "code",
   "execution_count": 8,
   "id": "64a120c7",
   "metadata": {},
   "outputs": [
    {
     "data": {
      "text/plain": [
       "{'ben_cube0': array([[-0.93316761,  0.35944153,  0.        ,  0.72849382],\n",
       "        [-0.35944153, -0.93316761,  0.        ,  0.4838208 ],\n",
       "        [ 0.        ,  0.        ,  1.        ,  0.84779998],\n",
       "        [ 0.        ,  0.        ,  0.        ,  1.        ]]),\n",
       " 'bottle0': array([[-0.24010951, -0.97074581,  0.        ,  0.90519833],\n",
       "        [ 0.97074581, -0.24010951,  0.        ,  0.55772651],\n",
       "        [ 0.        ,  0.        ,  1.        ,  0.87515735],\n",
       "        [ 0.        ,  0.        ,  0.        ,  1.        ]]),\n",
       " 'bottle1': array([[-0.90426676,  0.42696794,  0.        ,  0.52745796],\n",
       "        [-0.42696794, -0.90426676,  0.        ,  0.13228674],\n",
       "        [ 0.        ,  0.        ,  1.        ,  0.87515735],\n",
       "        [ 0.        ,  0.        ,  0.        ,  1.        ]]),\n",
       " 'ben_cube1': array([[ 0.05155025, -0.9986704 ,  0.        ,  0.8906531 ],\n",
       "        [ 0.9986704 ,  0.05155025,  0.        , -0.3202997 ],\n",
       "        [ 0.        ,  0.        ,  1.        ,  0.84779998],\n",
       "        [ 0.        ,  0.        ,  0.        ,  1.        ]])}"
      ]
     },
     "execution_count": 8,
     "metadata": {},
     "output_type": "execute_result"
    }
   ],
   "source": [
    "ArrangementAction.scene_mngr.scene.goal_object_poses"
   ]
  },
  {
   "cell_type": "code",
   "execution_count": 10,
   "id": "f112bff7",
   "metadata": {},
   "outputs": [
    {
     "data": {
      "text/plain": [
       "{'on': \u001b[95mObject\u001b[0m(name=table, pos=[ 1.    -0.6    0.043])}"
      ]
     },
     "execution_count": 10,
     "metadata": {},
     "output_type": "execute_result"
    }
   ],
   "source": [
    "obj_name = 'ben_cube0'\n",
    "ArrangementAction.scene_mngr.scene.logical_states[obj_name]"
   ]
  },
  {
   "cell_type": "code",
   "execution_count": 11,
   "id": "e3fa14b8",
   "metadata": {},
   "outputs": [
    {
     "data": {
      "text/plain": [
       "\u001b[95mObject\u001b[0m(name=table, pos=[ 1.    -0.6    0.043])"
      ]
     },
     "execution_count": 11,
     "metadata": {},
     "output_type": "execute_result"
    }
   ],
   "source": [
    "ArrangementAction.scene_mngr.scene.logical_states[obj_name].get(\n",
    "                ArrangementAction.scene_mngr.scene.logical_state.on\n",
    "            )"
   ]
  },
  {
   "cell_type": "code",
   "execution_count": 12,
   "id": "85400c1e",
   "metadata": {},
   "outputs": [
    {
     "data": {
      "text/plain": [
       "{'table': \u001b[95mObject\u001b[0m(name=table, pos=[ 1.    -0.6    0.043]),\n",
       " 'ben_cube0': \u001b[95mObject\u001b[0m(name=ben_cube0, pos=[ 0.8052353  -0.06686284  0.84779998]),\n",
       " 'bottle0': \u001b[95mObject\u001b[0m(name=bottle0, pos=[ 0.70868156 -0.40372074  0.83593754]),\n",
       " 'bottle1': \u001b[95mObject\u001b[0m(name=bottle1, pos=[ 0.81645215 -0.51892641  0.83593754]),\n",
       " 'ben_cube1': \u001b[95mObject\u001b[0m(name=ben_cube1, pos=[0.42173466 0.33473607 0.84779998])}"
      ]
     },
     "execution_count": 12,
     "metadata": {},
     "output_type": "execute_result"
    }
   ],
   "source": [
    "ArrangementAction.scene_mngr.scene.objs"
   ]
  },
  {
   "cell_type": "code",
   "execution_count": 2,
   "id": "ba4b3adb",
   "metadata": {},
   "outputs": [
    {
     "data": {
      "text/plain": [
       "{'ben_cube0': array([[-0.22549562,  0.97424418,  0.        , -0.05677136],\n",
       "        [-0.97424418, -0.22549562,  0.        ,  0.09092221],\n",
       "        [ 0.        ,  0.        ,  1.        ,  0.80479998],\n",
       "        [ 0.        ,  0.        ,  0.        ,  1.        ]]),\n",
       " 'bottle0': array([[ 0.94909068,  0.31500298,  0.        , -0.33575687],\n",
       "        [-0.31500298,  0.94909068,  0.        ,  0.06906262],\n",
       "        [ 0.        ,  0.        ,  1.        ,  0.83215735],\n",
       "        [ 0.        ,  0.        ,  0.        ,  1.        ]]),\n",
       " 'bottle1': array([[ 0.94334146,  0.33182358,  0.        , -0.28956345],\n",
       "        [-0.33182358,  0.94334146,  0.        ,  0.9973612 ],\n",
       "        [ 0.        ,  0.        ,  1.        ,  0.83215735],\n",
       "        [ 0.        ,  0.        ,  0.        ,  1.        ]])}"
      ]
     },
     "execution_count": 2,
     "metadata": {},
     "output_type": "execute_result"
    }
   ],
   "source": [
    "rearrangement_scene.scene_mngr.scene.goal_object_poses"
   ]
  },
  {
   "cell_type": "code",
   "execution_count": 16,
   "id": "4b317e76",
   "metadata": {
    "scrolled": true
   },
   "outputs": [
    {
     "name": "stdout",
     "output_type": "stream",
     "text": [
      "{'table': \u001b[95mObject\u001b[0m(name=table, pos=[ 1.    -0.6    0.043]), 'ben_cube0': \u001b[95mObject\u001b[0m(name=ben_cube0, pos=[ 0.8052353  -0.06686284  0.84779998]), 'bottle0': \u001b[95mObject\u001b[0m(name=bottle0, pos=[ 0.70868156 -0.40372074  0.83593754]), 'bottle1': \u001b[95mObject\u001b[0m(name=bottle1, pos=[ 0.81645215 -0.51892641  0.83593754]), 'ben_cube1': \u001b[95mObject\u001b[0m(name=ben_cube1, pos=[0.42173466 0.33473607 0.84779998])}\n"
     ]
    },
    {
     "data": {
      "image/png": "[encoded data removed]",
      "text/plain": [
       "<Figure size 1200x800 with 1 Axes>"
      ]
     },
     "metadata": {},
     "output_type": "display_data"
    }
   ],
   "source": [
    "fig, ax = p_utils.init_3d_figure(name=\"Rearrangement 1\")\n",
    "\n",
    "# init_scene\n",
    "rearrangement1.scene_mngr.render_scene(ax)\n",
    "rearrangement1.render_axis(rearrangement1.scene_mngr)\n",
    "rearrangement1.scene_mngr.show()"
   ]
  },
  {
   "cell_type": "code",
   "execution_count": 4,
   "id": "77a23d65",
   "metadata": {},
   "outputs": [
    {
     "name": "stdout",
     "output_type": "stream",
     "text": [
      "{'table': \u001b[95mObject\u001b[0m(name=table, pos=[ 1.    -0.6    0.043]), 'ben_cube0': \u001b[95mObject\u001b[0m(name=ben_cube0, pos=[0.42629558 0.47003529 0.84779998]), 'bottle0': \u001b[95mObject\u001b[0m(name=bottle0, pos=[ 0.60795884 -0.58375952  0.87515735]), 'bottle1': \u001b[95mObject\u001b[0m(name=bottle1, pos=[0.93902519 0.57723549 0.87515735])}\n"
     ]
    },
    {
     "data": {
      "image/png": "[encoded data removed]",
      "text/plain": [
       "<Figure size 1200x800 with 1 Axes>"
      ]
     },
     "metadata": {},
     "output_type": "display_data"
    }
   ],
   "source": [
    "fig, ax = p_utils.init_3d_figure(name=\"Rearrangement 1\")\n",
    "\n",
    "# init_scene\n",
    "rearrangement_scene.goal_scene_mngr.render_scene(ax)\n",
    "rearrangement_scene.render_axis(rearrangement_scene.goal_scene_mngr)\n",
    "rearrangement_scene.goal_scene_mngr.show()"
   ]
  },
  {
   "cell_type": "code",
   "execution_count": 2,
   "id": "3d2c7129",
   "metadata": {},
   "outputs": [
    {
     "data": {
      "text/plain": [
       "{0: {'object_names': ['ben_cube0', 'bottle0', 'bottle1'],\n",
       "  'goal_scene': <pytamp.utils.making_scene_utils.Make_Scene at 0x7f16a389a730>}}"
      ]
     },
     "execution_count": 2,
     "metadata": {},
     "output_type": "execute_result"
    }
   ],
   "source": [
    "rearrangement_scene.scene_mngr.scene.benchmark_config"
   ]
  },
  {
   "cell_type": "code",
   "execution_count": 3,
   "id": "8d83432f",
   "metadata": {},
   "outputs": [
    {
     "data": {
      "text/plain": [
       "{'support_object': array([[ 1.   ,  0.   ,  0.   ,  1.   ],\n",
       "        [ 0.   ,  1.   ,  0.   , -0.6  ],\n",
       "        [ 0.   ,  0.   ,  1.   ,  0.043],\n",
       "        [ 0.   ,  0.   ,  0.   ,  1.   ]]),\n",
       " 'ben_cube0': array([[ 0.04228472, -0.9991056 ,  0.        ,  0.6273327 ],\n",
       "        [ 0.9991056 ,  0.04228472,  0.        ,  0.60003369],\n",
       "        [ 0.        ,  0.        ,  1.        ,  0.84779998],\n",
       "        [ 0.        ,  0.        ,  0.        ,  1.        ]]),\n",
       " 'bottle0': array([[ 0.39123747, -0.92028976,  0.        ,  0.84156174],\n",
       "        [ 0.92028976,  0.39123747,  0.        , -0.24405634],\n",
       "        [ 0.        ,  0.        ,  1.        ,  0.87515735],\n",
       "        [ 0.        ,  0.        ,  0.        ,  1.        ]]),\n",
       " 'bottle1': array([[ 0.74834252, -0.66331251,  0.        ,  0.89338256],\n",
       "        [ 0.66331251,  0.74834252,  0.        , -0.42871788],\n",
       "        [ 0.        ,  0.        ,  1.        ,  0.87515735],\n",
       "        [ 0.        ,  0.        ,  0.        ,  1.        ]])}"
      ]
     },
     "execution_count": 3,
     "metadata": {},
     "output_type": "execute_result"
    }
   ],
   "source": [
    "rearrangement_scene.goal_scene._poses"
   ]
  },
  {
   "cell_type": "code",
   "execution_count": 14,
   "id": "85567783",
   "metadata": {},
   "outputs": [
    {
     "name": "stdout",
     "output_type": "stream",
     "text": [
      "ben_cube0\n",
      "bottle0\n",
      "bottle1\n"
     ]
    }
   ],
   "source": [
    "goal_object_poses = {}\n",
    "for i in rearrangement_scene.scene_mngr.scene.benchmark_config[0]['object_names']:\n",
    "    print(i)\n",
    "    goal_object_poses[i] = rearrangement_scene.goal_scene._poses[i]"
   ]
  },
  {
   "cell_type": "code",
   "execution_count": 15,
   "id": "74c8e70f",
   "metadata": {},
   "outputs": [
    {
     "data": {
      "text/plain": [
       "{'ben_cube0': array([[ 0.04228472, -0.9991056 ,  0.        ,  0.6273327 ],\n",
       "        [ 0.9991056 ,  0.04228472,  0.        ,  0.60003369],\n",
       "        [ 0.        ,  0.        ,  1.        ,  0.84779998],\n",
       "        [ 0.        ,  0.        ,  0.        ,  1.        ]]),\n",
       " 'bottle0': array([[ 0.39123747, -0.92028976,  0.        ,  0.84156174],\n",
       "        [ 0.92028976,  0.39123747,  0.        , -0.24405634],\n",
       "        [ 0.        ,  0.        ,  1.        ,  0.87515735],\n",
       "        [ 0.        ,  0.        ,  0.        ,  1.        ]]),\n",
       " 'bottle1': array([[ 0.74834252, -0.66331251,  0.        ,  0.89338256],\n",
       "        [ 0.66331251,  0.74834252,  0.        , -0.42871788],\n",
       "        [ 0.        ,  0.        ,  1.        ,  0.87515735],\n",
       "        [ 0.        ,  0.        ,  0.        ,  1.        ]])}"
      ]
     },
     "execution_count": 15,
     "metadata": {},
     "output_type": "execute_result"
    }
   ],
   "source": [
    "goal_object_poses"
   ]
  },
  {
   "cell_type": "code",
   "execution_count": 5,
   "id": "b19a9532",
   "metadata": {},
   "outputs": [
    {
     "name": "stdout",
     "output_type": "stream",
     "text": [
      "table :  [[ 1.     0.     0.     1.   ]\n",
      " [ 0.     1.     0.    -0.6  ]\n",
      " [ 0.     0.     1.     0.043]\n",
      " [ 0.     0.     0.     1.   ]]\n",
      "ben_cube0 :  [[ 0.04228472 -0.9991056   0.          0.6273327 ]\n",
      " [ 0.9991056   0.04228472  0.          0.60003369]\n",
      " [ 0.          0.          1.          0.84779998]\n",
      " [ 0.          0.          0.          1.        ]]\n",
      "bottle0 :  [[ 0.39123747 -0.92028976  0.          0.84156174]\n",
      " [ 0.92028976  0.39123747  0.         -0.24405634]\n",
      " [ 0.          0.          1.          0.87515735]\n",
      " [ 0.          0.          0.          1.        ]]\n",
      "bottle1 :  [[ 0.74834252 -0.66331251  0.          0.89338256]\n",
      " [ 0.66331251  0.74834252  0.         -0.42871788]\n",
      " [ 0.          0.          1.          0.87515735]\n",
      " [ 0.          0.          0.          1.        ]]\n"
     ]
    }
   ],
   "source": [
    "for name, value in rearrangement_scene.goal_scene_mngr.scene.objs.items():\n",
    "    print(name, ': ', value.h_mat)"
   ]
  },
  {
   "cell_type": "code",
   "execution_count": null,
   "id": "ff7ffa38",
   "metadata": {},
   "outputs": [],
   "source": [
    "re"
   ]
  },
  {
   "cell_type": "code",
   "execution_count": null,
   "id": "78d19428",
   "metadata": {},
   "outputs": [],
   "source": []
  },
  {
   "cell_type": "code",
   "execution_count": null,
   "id": "d96c15ad",
   "metadata": {},
   "outputs": [],
   "source": []
  }
 ],
 "metadata": {
  "kernelspec": {
   "display_name": "contact_graspnet",
   "language": "python",
   "name": "contact_graspnet"
  },
  "language_info": {
   "codemirror_mode": {
    "name": "ipython",
    "version": 3
   },
   "file_extension": ".py",
   "mimetype": "text/x-python",
   "name": "python",
   "nbconvert_exporter": "python",
   "pygments_lexer": "ipython3",
   "version": "3.8.16"
  }
 },
 "nbformat": 4,
 "nbformat_minor": 5
}
