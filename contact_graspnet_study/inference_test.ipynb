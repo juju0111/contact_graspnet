{
 "cells": [
  {
   "cell_type": "markdown",
   "id": "b9b9c342",
   "metadata": {},
   "source": [
    "## 1. module import "
   ]
  },
  {
   "cell_type": "code",
   "execution_count": 22,
   "id": "dc6ab7a4",
   "metadata": {},
   "outputs": [],
   "source": [
    "import os\n",
    "import sys\n",
    "import argparse\n",
    "import numpy as np\n",
    "import time\n",
    "import glob\n",
    "import cv2\n",
    "\n",
    "import tensorflow.compat.v1 as tf\n",
    "tf.disable_eager_execution()\n",
    "physical_devices = tf.config.experimental.list_physical_devices('GPU')\n",
    "tf.config.experimental.set_memory_growth(physical_devices[0], True)\n",
    "\n",
    "BASE_DIR = os.path.dirname(os.path.dirname(os.path.abspath('/home/juju/contact_graspnet/contact_graspnet/inference.py')))\n",
    "sys.path.append(os.path.join(BASE_DIR))\n",
    "sys.path.append(os.path.join('/home/juju/contact_graspnet/contact_graspnet'))\n",
    "sys.path.append(os.path.join('/home/juju/contact_graspnet'))\n",
    "\n",
    "import config_utils\n",
    "from data import regularize_pc_point_count, depth2pc, load_available_input_data\n",
    "\n",
    "\n",
    "\n",
    "from contact_grasp_estimator import GraspEstimator\n",
    "from visualization_utils import visualize_grasps, show_image"
   ]
  },
  {
   "cell_type": "code",
   "execution_count": 23,
   "id": "bdd90ae2",
   "metadata": {},
   "outputs": [
    {
     "data": {
      "text/plain": [
       "['/home/juju/jh_study/contact_graspnet_study',\n",
       " '/home/juju/jh_study/contact_graspnet_study',\n",
       " '/home/juju/HPE/ViTPose',\n",
       " '/home/juju/anaconda3/envs/contact_graspnet/lib/python38.zip',\n",
       " '/home/juju/anaconda3/envs/contact_graspnet/lib/python3.8',\n",
       " '/home/juju/anaconda3/envs/contact_graspnet/lib/python3.8/lib-dynload',\n",
       " '',\n",
       " '/home/juju/anaconda3/envs/contact_graspnet/lib/python3.8/site-packages',\n",
       " '/home/juju/contact_graspnet',\n",
       " '/home/juju/contact_graspnet/contact_graspnet',\n",
       " '/home/juju/contact_graspnet',\n",
       " '/home/juju/contact_graspnet/contact_graspnet',\n",
       " '/home/juju/contact_graspnet/pointnet2/tf_ops/grouping',\n",
       " '/home/juju/contact_graspnet/pointnet2/utils',\n",
       " '/home/juju/contact_graspnet/pointnet2/utils',\n",
       " '/home/juju/contact_graspnet',\n",
       " '/home/juju/contact_graspnet/pointnet2/utils',\n",
       " '/home/juju/contact_graspnet/contact_graspnet/contact_grasp_estimator.py',\n",
       " '/home/juju/contact_graspnet',\n",
       " '/home/juju/contact_graspnet/contact_graspnet',\n",
       " '/home/juju/contact_graspnet',\n",
       " '/home/juju/contact_graspnet/contact_graspnet',\n",
       " '/home/juju/contact_graspnet']"
      ]
     },
     "execution_count": 23,
     "metadata": {},
     "output_type": "execute_result"
    }
   ],
   "source": [
    "sys.path"
   ]
  },
  {
   "cell_type": "markdown",
   "id": "aa669aa7",
   "metadata": {},
   "source": [
    "## 2. argument setting"
   ]
  },
  {
   "cell_type": "code",
   "execution_count": 51,
   "id": "10460e64",
   "metadata": {},
   "outputs": [],
   "source": [
    "parser = argparse.ArgumentParser()\n",
    "parser.add_argument('--ckpt_dir', default='checkpoints/scene_test_2048_bs3_hor_sigma_001', help='Log dir [default: checkpoints/scene_test_2048_bs3_hor_sigma_001]')\n",
    "parser.add_argument('--np_path', default='test_data/7.npy', help='Input data: npz/npy file with keys either \"depth\" & camera matrix \"K\" or just point cloud \"pc\" in meters. Optionally, a 2D \"segmap\"')\n",
    "parser.add_argument('--png_path', default='', help='Input data: depth map png in meters')\n",
    "parser.add_argument('--K', default=None, help='Flat Camera Matrix, pass as \"[fx, 0, cx, 0, fy, cy, 0, 0 ,1]\"')\n",
    "parser.add_argument('--z_range', default=[0.2,1.8], help='Z value threshold to crop the input point cloud')\n",
    "parser.add_argument('--local_regions', action='store_true', default=False, help='Crop 3D local regions around given segments.')\n",
    "parser.add_argument('--filter_grasps', action='store_true', default=False,  help='Filter grasp contacts according to segmap.')\n",
    "parser.add_argument('--skip_border_objects', action='store_true', default=False,  help='When extracting local_regions, ignore segments at depth map boundary.')\n",
    "parser.add_argument('--forward_passes', type=int, default=1,  help='Run multiple parallel forward passes to mesh_utils more potential contact points.')\n",
    "parser.add_argument('--segmap_id', type=int, default=0,  help='Only return grasps of the given object id')\n",
    "parser.add_argument('--arg_configs', nargs=\"*\", type=str, default=[], help='overwrite config parameters')\n",
    "\n",
    "FLAGS = parser.parse_args(args=[])"
   ]
  },
  {
   "cell_type": "markdown",
   "id": "ac367bb9",
   "metadata": {},
   "source": [
    "## 3. Config setting"
   ]
  },
  {
   "cell_type": "code",
   "execution_count": 52,
   "id": "9eacf50c",
   "metadata": {},
   "outputs": [
    {
     "name": "stderr",
     "output_type": "stream",
     "text": [
      "/home/juju/contact_graspnet/contact_graspnet/config_utils.py:40: YAMLLoadWarning: calling yaml.load() without Loader=... is deprecated, as the default Loader is unsafe. Please read https://msg.pyyaml.org/load for full details.\n",
      "  global_config = yaml.load(f)\n"
     ]
    },
    {
     "data": {
      "text/plain": [
       "{'DATA': {'scene_contacts_path': 'scene_contacts',\n",
       "  'gripper_width': 0.08,\n",
       "  'input_normals': False,\n",
       "  'use_uniform_quaternions': False,\n",
       "  'view_sphere': {'elevation': [30, 150], 'distance_range': [0.9, 1.3]},\n",
       "  'train_on_scenes': True,\n",
       "  'labels': {'to_gpu': False,\n",
       "   'bin_weights': [0.16652107,\n",
       "    0.21488856,\n",
       "    0.37031708,\n",
       "    0.55618503,\n",
       "    0.75124664,\n",
       "    0.93943357,\n",
       "    1.07824539,\n",
       "    1.19423112,\n",
       "    1.55731375,\n",
       "    3.17161779],\n",
       "   'filter_z': True,\n",
       "   'k': 1,\n",
       "   'max_radius': 0.005,\n",
       "   'num_neg_contacts': 0,\n",
       "   'num_pos_contacts': 8000,\n",
       "   'offset_bins': [0,\n",
       "    0.00794435329,\n",
       "    0.0158887021,\n",
       "    0.0238330509,\n",
       "    0.0317773996,\n",
       "    0.0397217484,\n",
       "    0.0476660972,\n",
       "    0.055610446,\n",
       "    0.0635547948,\n",
       "    0.0714991435,\n",
       "    0.08],\n",
       "   'z_val': -0.1},\n",
       "  'pc_augm': {'occlusion_nclusters': 0,\n",
       "   'occlusion_dropout_rate': 0.0,\n",
       "   'sigma': 0.0,\n",
       "   'clip': 0.005},\n",
       "  'depth_augm': {'sigma': 0.001, 'clip': 0.005, 'gaussian_kernel': 0},\n",
       "  'raw_num_points': 20000,\n",
       "  'ndataset_points': 20000,\n",
       "  'num_point': 2048,\n",
       "  'use_farthest_point': False,\n",
       "  'train_and_test': False,\n",
       "  'num_test_scenes': 1000,\n",
       "  'intrinsics': 'realsense',\n",
       "  'classes': None},\n",
       " 'LOSS': {'min_geom_loss_divisor': 1.0,\n",
       "  'offset_loss_type': 'sigmoid_cross_entropy',\n",
       "  'too_small_offset_pred_bin_factor': 0,\n",
       "  'topk_confidence': 512},\n",
       " 'MODEL': {'bin_offsets': True,\n",
       "  'dir_vec_length_offset': False,\n",
       "  'grasp_conf_head': {'conv1d': 1, 'dropout_keep': 0.5},\n",
       "  'grasp_dir_head': {'conv1d': 3, 'dropout_keep': 0.7},\n",
       "  'joint_head': {'conv1d': 4, 'dropout_keep': 0.7},\n",
       "  'joint_heads': False,\n",
       "  'asymmetric_model': True,\n",
       "  'model': 'contact_graspnet',\n",
       "  'pointnet_fp_modules': [{'mlp': [256, 256]},\n",
       "   {'mlp': [256, 128]},\n",
       "   {'mlp': [128, 128, 128]}],\n",
       "  'pointnet_sa_module': {'group_all': True, 'mlp': [256, 512, 1024]},\n",
       "  'pointnet_sa_modules_msg': [{'mlp_list': [[32, 32, 64],\n",
       "     [64, 64, 128],\n",
       "     [64, 96, 128]],\n",
       "    'npoint': 2048,\n",
       "    'nsample_list': [32, 64, 128],\n",
       "    'radius_list': [0.02, 0.04, 0.08]},\n",
       "   {'mlp_list': [[64, 64, 128], [128, 128, 256], [128, 128, 256]],\n",
       "    'npoint': 512,\n",
       "    'nsample_list': [64, 64, 128],\n",
       "    'radius_list': [0.04, 0.08, 0.16]},\n",
       "   {'mlp_list': [[64, 64, 128], [128, 128, 256], [128, 128, 256]],\n",
       "    'npoint': 128,\n",
       "    'nsample_list': [64, 64, 128],\n",
       "    'radius_list': [0.08, 0.16, 0.32]}],\n",
       "  'pred_contact_approach': False,\n",
       "  'pred_contact_base': False,\n",
       "  'pred_contact_offset': True,\n",
       "  'pred_contact_success': True,\n",
       "  'pred_grasps_adds': True,\n",
       "  'pred_grasps_adds_gt2pred': False},\n",
       " 'OPTIMIZER': {'max_epoch': 16,\n",
       "  'batch_size': 1,\n",
       "  'learning_rate': 0.001,\n",
       "  'optimizer': 'adam',\n",
       "  'momentum': 0.9,\n",
       "  'adds_gt2pred_loss_weight': 1,\n",
       "  'adds_loss_weight': 10,\n",
       "  'approach_cosine_loss_weight': 1,\n",
       "  'dir_cosine_loss_weight': 1,\n",
       "  'offset_loss_weight': 1,\n",
       "  'score_ce_loss_weight': 1,\n",
       "  'bn_decay_clip': 0.99,\n",
       "  'bn_decay_decay_rate': 0.5,\n",
       "  'bn_decay_decay_step': 200000,\n",
       "  'bn_init_decay': 0.5,\n",
       "  'decay_rate': 0.7,\n",
       "  'decay_step': 200000},\n",
       " 'TEST': {'first_thres': 0.23,\n",
       "  'second_thres': 0.19,\n",
       "  'allow_zero_margin': 0,\n",
       "  'bin_vals': 'max',\n",
       "  'center_to_tip': 0.0,\n",
       "  'extra_opening': 0.005,\n",
       "  'max_farthest_points': 150,\n",
       "  'num_samples': 200,\n",
       "  'with_replacement': False,\n",
       "  'filter_thres': 0.0001}}"
      ]
     },
     "execution_count": 52,
     "metadata": {},
     "output_type": "execute_result"
    }
   ],
   "source": [
    "global_config = config_utils.load_config(FLAGS.ckpt_dir, batch_size=FLAGS.forward_passes, arg_configs=FLAGS.arg_configs)\n",
    "\n",
    "global_config"
   ]
  },
  {
   "cell_type": "code",
   "execution_count": 13,
   "id": "926a585c",
   "metadata": {},
   "outputs": [
    {
     "data": {
      "text/plain": [
       "1"
      ]
     },
     "execution_count": 13,
     "metadata": {},
     "output_type": "execute_result"
    }
   ],
   "source": [
    "# inference 시 사용할 batch_size이기 때문에 batch를 1로 셋팅한다. \n",
    "FLAGS.forward_passes"
   ]
  },
  {
   "cell_type": "markdown",
   "id": "6529ee7c",
   "metadata": {},
   "source": [
    "###### config_utils.load_config 코드 분석"
   ]
  },
  {
   "cell_type": "code",
   "execution_count": 53,
   "id": "25b5dc33",
   "metadata": {},
   "outputs": [],
   "source": [
    "import os\n",
    "import yaml\n",
    "\n",
    "def recursive_key_value_assign(d,ks,v):\n",
    "    \"\"\"\n",
    "    Recursive value assignment to a nested dict\n",
    "\n",
    "    Arguments:\n",
    "        d {dict} -- dict\n",
    "        ks {list} -- list of hierarchical keys\n",
    "        v {value} -- value to assign\n",
    "    \"\"\"\n",
    "    \n",
    "    if len(ks) > 1:\n",
    "        recursive_key_value_assign(d[ks[0]],ks[1:],v)\n",
    "    elif len(ks) == 1:\n",
    "        d[ks[0]] = v\n",
    "        \n",
    "def load_config(checkpoint_dir, batch_size=None, max_epoch=None, data_path=None, arg_configs=[], save=False):\n",
    "    \"\"\"\n",
    "    Loads yaml config file and overwrites parameters with function arguments and --arg_config parameters\n",
    "\n",
    "    Arguments:\n",
    "        checkpoint_dir {str} -- Checkpoint directory where config file was copied to\n",
    "\n",
    "    Keyword Arguments:\n",
    "        batch_size {int} -- [description] (default: {None})\n",
    "        max_epoch {int} -- \"epochs\" (number of scenes) to train (default: {None})\n",
    "        data_path {str} -- path to scenes with contact grasp data (default: {None})\n",
    "        arg_configs {list} -- Overwrite config parameters by hierarchical command line arguments (default: {[]})\n",
    "        save {bool} -- Save overwritten config file (default: {False})\n",
    "\n",
    "    Returns:\n",
    "        [dict] -- Config\n",
    "    \"\"\"\n",
    "\n",
    "    config_path = os.path.join(checkpoint_dir, 'config.yaml')\n",
    "#     print(config_path)\n",
    "#     config_path = config_path if os.path.exists(config_path) else os.path.join(os.path.dirname(__file__),'config.yaml')\n",
    "    config_path = '/home/juju/contact_graspnet/checkpoints/scene_test_2048_bs3_hor_sigma_001/config.yaml'\n",
    "    with open(config_path,'r') as f:\n",
    "        global_config = yaml.load(f)\n",
    "\n",
    "    for conf in arg_configs:\n",
    "        k_str, v = conf.split(':')\n",
    "        try:\n",
    "            v = eval(v)\n",
    "        except:\n",
    "            pass\n",
    "        ks = [int(k) if k.isdigit() else k for k in k_str.split('.')]\n",
    "        \n",
    "        recursive_key_value_assign(global_config, ks, v)\n",
    "        \n",
    "    if batch_size is not None:\n",
    "        global_config['OPTIMIZER']['batch_size'] = int(batch_size)\n",
    "    if max_epoch is not None:\n",
    "        global_config['OPTIMIZER']['max_epoch'] = int(max_epoch)\n",
    "    if data_path is not None:\n",
    "        global_config['DATA']['data_path'] = data_path\n",
    "        \n",
    "    global_config['DATA']['classes'] = None\n",
    "    \n",
    "    if save:\n",
    "        with open(os.path.join(checkpoint_dir, 'config.yaml'),'w') as f:\n",
    "            yaml.dump(global_config, f)\n",
    "\n",
    "    return global_config"
   ]
  },
  {
   "cell_type": "code",
   "execution_count": 54,
   "id": "c1691eb0",
   "metadata": {},
   "outputs": [
    {
     "name": "stderr",
     "output_type": "stream",
     "text": [
      "/tmp/ipykernel_45778/2857623346.py:42: YAMLLoadWarning: calling yaml.load() without Loader=... is deprecated, as the default Loader is unsafe. Please read https://msg.pyyaml.org/load for full details.\n",
      "  global_config = yaml.load(f)\n"
     ]
    }
   ],
   "source": [
    "global_config = load_config(FLAGS.ckpt_dir, batch_size=FLAGS.forward_passes, arg_configs=FLAGS.arg_configs)\n"
   ]
  },
  {
   "cell_type": "code",
   "execution_count": 56,
   "id": "66c41330",
   "metadata": {},
   "outputs": [
    {
     "data": {
      "text/plain": [
       "True"
      ]
     },
     "execution_count": 56,
     "metadata": {},
     "output_type": "execute_result"
    }
   ],
   "source": [
    "checkpoint_dir = '/home/juju/contact_graspnet/checkpoints/scene_test_2048_bs3_hor_sigma_001/config.yaml'\n",
    "config_path = os.path.join(checkpoint_dir, 'config.yaml')\n",
    "\n",
    "os.path.exists(checkpoint_dir)"
   ]
  },
  {
   "cell_type": "code",
   "execution_count": 59,
   "id": "a06f07a7",
   "metadata": {},
   "outputs": [
    {
     "data": {
      "text/plain": [
       "1"
      ]
     },
     "execution_count": 59,
     "metadata": {},
     "output_type": "execute_result"
    }
   ],
   "source": [
    "global_config['OPTIMIZER']['batch_size']"
   ]
  },
  {
   "cell_type": "code",
   "execution_count": null,
   "id": "c32a8e06",
   "metadata": {},
   "outputs": [],
   "source": []
  },
  {
   "cell_type": "code",
   "execution_count": null,
   "id": "765f3f1d",
   "metadata": {},
   "outputs": [],
   "source": []
  },
  {
   "cell_type": "code",
   "execution_count": null,
   "id": "7a2b7924",
   "metadata": {},
   "outputs": [],
   "source": []
  },
  {
   "cell_type": "code",
   "execution_count": null,
   "id": "576a7a06",
   "metadata": {},
   "outputs": [],
   "source": []
  },
  {
   "cell_type": "code",
   "execution_count": null,
   "id": "16821ba9",
   "metadata": {},
   "outputs": [],
   "source": []
  },
  {
   "cell_type": "code",
   "execution_count": null,
   "id": "bd923e83",
   "metadata": {},
   "outputs": [],
   "source": []
  },
  {
   "cell_type": "code",
   "execution_count": null,
   "id": "f9513cb4",
   "metadata": {},
   "outputs": [],
   "source": []
  },
  {
   "cell_type": "code",
   "execution_count": null,
   "id": "f758bd79",
   "metadata": {},
   "outputs": [],
   "source": []
  },
  {
   "cell_type": "code",
   "execution_count": null,
   "id": "c96cc67f",
   "metadata": {},
   "outputs": [],
   "source": []
  },
  {
   "cell_type": "code",
   "execution_count": null,
   "id": "e2c36ae6",
   "metadata": {},
   "outputs": [],
   "source": []
  },
  {
   "cell_type": "code",
   "execution_count": null,
   "id": "8c75b133",
   "metadata": {},
   "outputs": [],
   "source": []
  }
 ],
 "metadata": {
  "kernelspec": {
   "display_name": "contact_graspnet",
   "language": "python",
   "name": "contact_graspnet"
  },
  "language_info": {
   "codemirror_mode": {
    "name": "ipython",
    "version": 3
   },
   "file_extension": ".py",
   "mimetype": "text/x-python",
   "name": "python",
   "nbconvert_exporter": "python",
   "pygments_lexer": "ipython3",
   "version": "3.8.16"
  }
 },
 "nbformat": 4,
 "nbformat_minor": 5
}
