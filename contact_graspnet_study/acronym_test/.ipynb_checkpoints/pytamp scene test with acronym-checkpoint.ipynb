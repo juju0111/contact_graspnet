{
 "cells": [
  {
   "cell_type": "code",
   "execution_count": 12,
   "id": "46263f34",
   "metadata": {
    "scrolled": true
   },
   "outputs": [
    {
     "name": "stdout",
     "output_type": "stream",
     "text": [
      "*********************** \u001b[92mLogical States\u001b[0m ***********************\n",
      "OrderedDict([('A_box',\n",
      "              {'on': \u001b[95mObject\u001b[0m(name=table, pos=[ 1.    -0.6    0.043]),\n",
      "               'support': [\u001b[95mObject\u001b[0m(name=F_box, pos=[0.6        0.         0.95829998])]}),\n",
      "             ('B_box',\n",
      "              {'on': \u001b[95mObject\u001b[0m(name=table, pos=[ 1.    -0.6    0.043]),\n",
      "               'support': [\u001b[95mObject\u001b[0m(name=E_box, pos=[ 0.6        -0.2         0.95829998])]}),\n",
      "             ('C_box',\n",
      "              {'on': \u001b[95mObject\u001b[0m(name=table, pos=[ 1.    -0.6    0.043]),\n",
      "               'support': [\u001b[95mObject\u001b[0m(name=D_box, pos=[0.6        0.2        0.95829998])]}),\n",
      "             ('D_box',\n",
      "              {'on': \u001b[95mObject\u001b[0m(name=C_box, pos=[0.6        0.2        0.85829998])}),\n",
      "             ('E_box',\n",
      "              {'on': \u001b[95mObject\u001b[0m(name=B_box, pos=[ 0.6        -0.2         0.85829998])}),\n",
      "             ('F_box',\n",
      "              {'on': \u001b[95mObject\u001b[0m(name=A_box, pos=[0.6        0.         0.85829998])}),\n",
      "             ('tray_red', {'static': True}),\n",
      "             ('table',\n",
      "              {'static': True,\n",
      "               'support': [\u001b[95mObject\u001b[0m(name=A_box, pos=[0.6        0.         0.85829998]),\n",
      "                           \u001b[95mObject\u001b[0m(name=B_box, pos=[ 0.6        -0.2         0.85829998]),\n",
      "                           \u001b[95mObject\u001b[0m(name=C_box, pos=[0.6        0.2        0.85829998])]}),\n",
      "             ('robotiq140_gripper', {'holding': None})])\n",
      "***************************************************************\n",
      "\n",
      "{'table': \u001b[95mObject\u001b[0m(name=table, pos=[ 1.    -0.6    0.043]), 'A_box': \u001b[95mObject\u001b[0m(name=A_box, pos=[0.6        0.         0.85829998]), 'B_box': \u001b[95mObject\u001b[0m(name=B_box, pos=[ 0.6        -0.2         0.85829998]), 'C_box': \u001b[95mObject\u001b[0m(name=C_box, pos=[0.6        0.2        0.85829998]), 'D_box': \u001b[95mObject\u001b[0m(name=D_box, pos=[0.6        0.2        0.95829998]), 'E_box': \u001b[95mObject\u001b[0m(name=E_box, pos=[ 0.6        -0.2         0.95829998]), 'F_box': \u001b[95mObject\u001b[0m(name=F_box, pos=[0.6        0.         0.95829998]), 'tray_red': \u001b[95mObject\u001b[0m(name=tray_red, pos=[ 0.7   -0.6    0.805])}\n"
     ]
    },
    {
     "data": {
      "image/png": "[encoded data removed]",
      "text/plain": [
       "<Figure size 1200x800 with 1 Axes>"
      ]
     },
     "metadata": {},
     "output_type": "display_data"
    }
   ],
   "source": [
    "from pytamp.benchmark import Benchmark1\n",
    "from pykin.utils import plot_utils as p_utils\n",
    "\n",
    "benchmark1 = Benchmark1(robot_name=\"doosan\", geom=\"visual\", is_pyplot=False, box_num=6)\n",
    "fig, ax = p_utils.init_3d_figure(name=\"Benchmark 1\")\n",
    "\n",
    "benchmark1.scene_mngr.is_pyplot = False\n",
    "benchmark1.scene_mngr.render_scene(ax)\n",
    "# benchmark1.scene_mngr.show()"
   ]
  },
  {
   "cell_type": "code",
   "execution_count": 3,
   "id": "48e3db63",
   "metadata": {},
   "outputs": [
    {
     "data": {
      "text/plain": [
       "array([[-0.05, -0.05, -0.05],\n",
       "       [ 0.05,  0.05,  0.05]])"
      ]
     },
     "execution_count": 3,
     "metadata": {},
     "output_type": "execute_result"
    }
   ],
   "source": [
    "benchmark1.scene_mngr.scene.objs['A_box'].gparam.bounds"
   ]
  },
  {
   "cell_type": "code",
   "execution_count": 14,
   "id": "c1ee366c",
   "metadata": {},
   "outputs": [],
   "source": [
    "import easydict\n",
    "def custom_parser():\n",
    "    # object는 parser.add_argument( ~ , nargs=\"+\") , nargs=\"+\" 때문에 list로 arg 셋팅함\n",
    "    args = easydict.EasyDict({\n",
    "        \"objects\" : [\"/home/juju/acronym/copied_data/grasps/Book_4698973d47c780654f48c7d5931203ac_0.01010965467789813.h5\", \"/home/juju/acronym/copied_data/grasps/Bag_b914f95b191ad7c27f91c3974257b780_0.012715081291695372.h5\", \"/home/juju/acronym/copied_data/grasps/Bowl_2efc35a3625fa50961a9876fa6384765_0.012449533111417973.h5\"],\n",
    "        \"support\" : \"/home/juju/acronym/copied_data/grasps/3Shelves_29b66fc9db2f1558e0e89fd83955713c_0.0025867867973150068.h5\",\n",
    "        \"num_grasps\" : 5,\n",
    "        \"mesh_root\" : '/home/juju/acronym/copied_data/',\n",
    "        \"support_scale\" : 0.025\n",
    "    })\n",
    "    return args\n",
    "\n",
    "args = custom_parser()"
   ]
  },
  {
   "cell_type": "code",
   "execution_count": 15,
   "id": "dfaa61d7",
   "metadata": {},
   "outputs": [],
   "source": [
    "# for pytamp\n",
    "# def get_object_mesh(mesh_name, scale=[1.0, 1.0, 1.0]):\n",
    "#     file_path = pykin_path + \"/assets/objects/meshes/\"\n",
    "#     mesh: trimesh.Trimesh = trimesh.load(file_path + mesh_name)\n",
    "#     mesh.apply_scale(scale)\n",
    "#     return mesh\n",
    "\n",
    "from pykin.utils.mesh_utils import get_object_mesh, get_object_mesh_acronym\n",
    "import h5py\n",
    "import trimesh\n",
    "import os\n",
    "# for acronym\n",
    "# def get_object_mesh_acronym(filename, mesh_root_dir, scale=[1.0, 1.0, 1.0]):\n",
    "#     if filename.endswith(\".h5\"):\n",
    "#         data = h5py.File(filename, \"r\")\n",
    "#         mesh_fname = data[\"object/file\"][()].decode('utf-8')\n",
    "#         mesh_scale = data[\"object/scale\"][()] if scale is None else scale\n",
    "#     else:\n",
    "#         raise RuntimeError(\"Unknown file ending:\", filename)\n",
    "\n",
    "#     mesh = trimesh.load(os.path.join(mesh_root_dir, mesh_fname))\n",
    "#     mesh.apply_scale(mesh_scale)\n",
    "#     return mesh\n"
   ]
  },
  {
   "cell_type": "code",
   "execution_count": 16,
   "id": "395e4327",
   "metadata": {},
   "outputs": [],
   "source": [
    "box_mesh = get_object_mesh(\"ben_cube.stl\", 0.1)\n",
    "\n",
    "object_meshes = [get_object_mesh_acronym(o, mesh_root_dir=args.mesh_root) for o in args.objects]\n",
    "\n"
   ]
  },
  {
   "cell_type": "code",
   "execution_count": 17,
   "id": "1e57c37d",
   "metadata": {},
   "outputs": [
    {
     "data": {
      "text/plain": [
       "<trimesh.Trimesh(vertices.shape=(8, 3), faces.shape=(12, 3))>"
      ]
     },
     "execution_count": 17,
     "metadata": {},
     "output_type": "execute_result"
    }
   ],
   "source": [
    "box_mesh"
   ]
  },
  {
   "cell_type": "code",
   "execution_count": 18,
   "id": "67cec6da",
   "metadata": {},
   "outputs": [
    {
     "data": {
      "text/plain": [
       "[<trimesh.Trimesh(vertices.shape=(337, 3), faces.shape=(670, 3))>,\n",
       " <trimesh.Trimesh(vertices.shape=(1935, 3), faces.shape=(3874, 3))>,\n",
       " <trimesh.Trimesh(vertices.shape=(747, 3), faces.shape=(1490, 3))>]"
      ]
     },
     "execution_count": 18,
     "metadata": {},
     "output_type": "execute_result"
    }
   ],
   "source": [
    "object_meshes"
   ]
  },
  {
   "cell_type": "code",
   "execution_count": 19,
   "id": "48ba8d91",
   "metadata": {},
   "outputs": [
    {
     "data": {
      "text/plain": [
       "array([[-0.05, -0.05, -0.05],\n",
       "       [ 0.05,  0.05,  0.05]])"
      ]
     },
     "execution_count": 19,
     "metadata": {},
     "output_type": "execute_result"
    }
   ],
   "source": [
    "box_mesh.bounds"
   ]
  },
  {
   "cell_type": "code",
   "execution_count": null,
   "id": "9a46b218",
   "metadata": {},
   "outputs": [],
   "source": []
  },
  {
   "cell_type": "code",
   "execution_count": 20,
   "id": "a161e622",
   "metadata": {},
   "outputs": [
    {
     "name": "stdout",
     "output_type": "stream",
     "text": [
      "*********************** \u001b[92mLogical States\u001b[0m ***********************\n",
      "OrderedDict([('A_box',\n",
      "              {'on': \u001b[95mObject\u001b[0m(name=table, pos=[ 1.    -0.6    0.043]),\n",
      "               'support': [\u001b[95mObject\u001b[0m(name=F_box, pos=[0.6        0.         0.95829998])]}),\n",
      "             ('B_box',\n",
      "              {'on': \u001b[95mObject\u001b[0m(name=table, pos=[ 1.    -0.6    0.043]),\n",
      "               'support': [\u001b[95mObject\u001b[0m(name=E_box, pos=[ 0.6        -0.2         0.95829998])]}),\n",
      "             ('C_box',\n",
      "              {'on': \u001b[95mObject\u001b[0m(name=table, pos=[ 1.    -0.6    0.043]),\n",
      "               'support': [\u001b[95mObject\u001b[0m(name=D_box, pos=[0.6        0.2        0.95829998])]}),\n",
      "             ('D_box',\n",
      "              {'on': \u001b[95mObject\u001b[0m(name=C_box, pos=[0.6        0.2        0.85829998])}),\n",
      "             ('E_box',\n",
      "              {'on': \u001b[95mObject\u001b[0m(name=B_box, pos=[ 0.6        -0.2         0.85829998])}),\n",
      "             ('F_box',\n",
      "              {'on': \u001b[95mObject\u001b[0m(name=A_box, pos=[0.6        0.         0.85829998])}),\n",
      "             ('tray_red', {'static': True}),\n",
      "             ('table',\n",
      "              {'static': True,\n",
      "               'support': [\u001b[95mObject\u001b[0m(name=A_box, pos=[0.6        0.         0.85829998]),\n",
      "                           \u001b[95mObject\u001b[0m(name=B_box, pos=[ 0.6        -0.2         0.85829998]),\n",
      "                           \u001b[95mObject\u001b[0m(name=C_box, pos=[0.6        0.2        0.85829998])]}),\n",
      "             ('robotiq140_gripper', {'holding': None})])\n",
      "***************************************************************\n",
      "\n"
     ]
    }
   ],
   "source": [
    "benchmark1.scene_mngr.show_logical_states()"
   ]
  },
  {
   "cell_type": "code",
   "execution_count": 21,
   "id": "e4c003f9",
   "metadata": {},
   "outputs": [
    {
     "data": {
      "text/plain": [
       "array([[ 1.   ,  0.   ,  0.   ,  1.   ],\n",
       "       [ 0.   ,  1.   ,  0.   , -0.6  ],\n",
       "       [ 0.   ,  0.   ,  1.   ,  0.043],\n",
       "       [ 0.   ,  0.   ,  0.   ,  1.   ]])"
      ]
     },
     "execution_count": 21,
     "metadata": {},
     "output_type": "execute_result"
    }
   ],
   "source": [
    "benchmark1.scene_mngr.scene.objs['table'].h_mat"
   ]
  },
  {
   "cell_type": "code",
   "execution_count": 22,
   "id": "2f222c4f",
   "metadata": {},
   "outputs": [],
   "source": [
    "import copy\n",
    "import numpy as np\n",
    "custum_h_mat = copy.deepcopy(benchmark1.scene_mngr.scene.objs['table'].h_mat)"
   ]
  },
  {
   "cell_type": "code",
   "execution_count": 23,
   "id": "e532192f",
   "metadata": {},
   "outputs": [],
   "source": [
    "A_box_h = copy.deepcopy(benchmark1.scene_mngr.scene.objs['A_box'].h_mat)"
   ]
  },
  {
   "cell_type": "code",
   "execution_count": 24,
   "id": "57295973",
   "metadata": {},
   "outputs": [],
   "source": [
    "B_box_h = np.array([[ 8.83678644e-01,  4.68094014e-01,  2.18005747e-04,\n",
    "         -8.39914618e-01],\n",
    "        [-4.68092995e-01,  8.83677524e-01, -1.72656170e-03,\n",
    "          1.36830811e-01],\n",
    "        [-1.00083998e-03,  1.42367874e-03,  9.99998486e-01,\n",
    "          7.67042939e-01],\n",
    "        [ 0.00000000e+00,  0.00000000e+00,  0.00000000e+00,\n",
    "          1.00000000e+00]])"
   ]
  },
  {
   "cell_type": "code",
   "execution_count": 25,
   "id": "1b3f0e5d",
   "metadata": {},
   "outputs": [
    {
     "data": {
      "text/plain": [
       "array([[ 1.   ,  0.   ,  0.   ,  1.   ],\n",
       "       [ 0.   ,  1.   ,  0.   , -0.6  ],\n",
       "       [ 0.   ,  0.   ,  1.   ,  0.043],\n",
       "       [ 0.   ,  0.   ,  0.   ,  1.   ]])"
      ]
     },
     "execution_count": 25,
     "metadata": {},
     "output_type": "execute_result"
    }
   ],
   "source": [
    "custum_h_mat"
   ]
  },
  {
   "cell_type": "code",
   "execution_count": 15,
   "id": "5e001bba",
   "metadata": {},
   "outputs": [
    {
     "data": {
      "text/plain": [
       "array([[ 8.83678644e-01,  4.68094014e-01,  2.18005747e-04,\n",
       "         1.60085382e-01],\n",
       "       [-4.68092995e-01,  8.83677524e-01, -1.72656170e-03,\n",
       "        -4.63169189e-01],\n",
       "       [-1.00083998e-03,  1.42367874e-03,  9.99998486e-01,\n",
       "         8.10042939e-01],\n",
       "       [ 0.00000000e+00,  0.00000000e+00,  0.00000000e+00,\n",
       "         1.00000000e+00]])"
      ]
     },
     "execution_count": 15,
     "metadata": {},
     "output_type": "execute_result"
    }
   ],
   "source": [
    "custum_h_mat@B_box_h"
   ]
  },
  {
   "cell_type": "code",
   "execution_count": 26,
   "id": "774924e3",
   "metadata": {},
   "outputs": [
    {
     "data": {
      "text/plain": [
       "(array([[ 8.83678644e-01,  4.68094014e-01,  2.18005747e-04,\n",
       "         -8.39914618e-01],\n",
       "        [-4.68092995e-01,  8.83677524e-01, -1.72656170e-03,\n",
       "          1.36830811e-01],\n",
       "        [-1.00083998e-03,  1.42367874e-03,  9.99998486e-01,\n",
       "          7.67042939e-01],\n",
       "        [ 0.00000000e+00,  0.00000000e+00,  0.00000000e+00,\n",
       "          1.00000000e+00]]),\n",
       " array([[ 1.   ,  0.   ,  0.   ,  1.   ],\n",
       "        [ 0.   ,  1.   ,  0.   , -0.6  ],\n",
       "        [ 0.   ,  0.   ,  1.   ,  0.043],\n",
       "        [ 0.   ,  0.   ,  0.   ,  1.   ]]))"
      ]
     },
     "execution_count": 26,
     "metadata": {},
     "output_type": "execute_result"
    }
   ],
   "source": [
    "B_box_h, custum_h_mat"
   ]
  },
  {
   "cell_type": "code",
   "execution_count": null,
   "id": "a7e60a82",
   "metadata": {},
   "outputs": [],
   "source": []
  },
  {
   "cell_type": "code",
   "execution_count": null,
   "id": "4d085604",
   "metadata": {},
   "outputs": [],
   "source": []
  }
 ],
 "metadata": {
  "kernelspec": {
   "display_name": "contact_graspnet",
   "language": "python",
   "name": "contact_graspnet"
  },
  "language_info": {
   "codemirror_mode": {
    "name": "ipython",
    "version": 3
   },
   "file_extension": ".py",
   "mimetype": "text/x-python",
   "name": "python",
   "nbconvert_exporter": "python",
   "pygments_lexer": "ipython3",
   "version": "3.8.16"
  }
 },
 "nbformat": 4,
 "nbformat_minor": 5
}
