{
 "cells": [
  {
   "cell_type": "markdown",
   "id": "75decf92",
   "metadata": {},
   "source": [
    "## ACRONYM Visual test"
   ]
  },
  {
   "cell_type": "code",
   "execution_count": 20,
   "id": "9d70c301",
   "metadata": {},
   "outputs": [
    {
     "data": {
      "text/plain": [
       "['/home/juju/jh_study/contact_graspnet_study/acronym_test',\n",
       " '/home/juju/jh_study/contact_graspnet_study/acronym_test',\n",
       " '/home/juju/HPE/ViTPose',\n",
       " '/home/juju/anaconda3/envs/contact_graspnet/lib/python38.zip',\n",
       " '/home/juju/anaconda3/envs/contact_graspnet/lib/python3.8',\n",
       " '/home/juju/anaconda3/envs/contact_graspnet/lib/python3.8/lib-dynload',\n",
       " '',\n",
       " '/home/juju/anaconda3/envs/contact_graspnet/lib/python3.8/site-packages',\n",
       " '/home/juju/acronym']"
      ]
     },
     "execution_count": 20,
     "metadata": {},
     "output_type": "execute_result"
    }
   ],
   "source": [
    "import sys,os\n",
    "import json\n",
    "import trimesh\n",
    "import argparse\n",
    "import numpy as np\n",
    "\n",
    "from acronym_tools import load_mesh, load_grasps, create_gripper_marker\n",
    "\n",
    "sys.path"
   ]
  },
  {
   "cell_type": "markdown",
   "id": "a4644f53",
   "metadata": {},
   "source": [
    "### Parsing \n"
   ]
  },
  {
   "cell_type": "code",
   "execution_count": 36,
   "id": "bac5792e",
   "metadata": {},
   "outputs": [],
   "source": [
    "def make_parser():\n",
    "    parser = argparse.ArgumentParser(\n",
    "        description=\"Visualize grasps from the dataset.\",\n",
    "        formatter_class=argparse.ArgumentDefaultsHelpFormatter,\n",
    "    )\n",
    "    parser.add_argument(\"input\", nargs=\"+\", help=\"HDF5 or JSON Grasp file(s).\")\n",
    "    parser.add_argument(\n",
    "        \"--num_grasps\", type=int, default=20, help=\"Number of grasps to show.\"\n",
    "    )\n",
    "    parser.add_argument(\n",
    "        \"--mesh_root\", default=\".\", help=\"Directory used for loading meshes.\"\n",
    "    )\n",
    "    \n",
    "    return parser\n",
    "\n",
    "import easydict\n",
    "\n",
    "def custom_parser():\n",
    "    args = easydict.EasyDict({\n",
    "        \"input\" : \"/home/juju/acronym/data/examples/grasps/Mug_10f6e09036350e92b3f21f1137c3c347_0.0002682457830986903.h5\",\n",
    "        \"num_grasps\" : 5,\n",
    "        \"mesh_root\" : '/home/juju/acronym/data'\n",
    "    })\n",
    "    return args"
   ]
  },
  {
   "cell_type": "code",
   "execution_count": 47,
   "id": "3ca7b620",
   "metadata": {},
   "outputs": [
    {
     "data": {
      "text/plain": [
       "{'input': '/home/juju/acronym/data/examples/grasps/Mug_10f6e09036350e92b3f21f1137c3c347_0.0002682457830986903.h5',\n",
       " 'num_grasps': 5,\n",
       " 'mesh_root': '/home/juju/acronym/data'}"
      ]
     },
     "execution_count": 47,
     "metadata": {},
     "output_type": "execute_result"
    }
   ],
   "source": [
    "args = custom_parser()\n",
    "args"
   ]
  },
  {
   "cell_type": "markdown",
   "id": "47fdab30",
   "metadata": {},
   "source": [
    "### load mesh"
   ]
  },
  {
   "cell_type": "code",
   "execution_count": 38,
   "id": "533b3ac3",
   "metadata": {},
   "outputs": [],
   "source": [
    "import os\n",
    "import json\n",
    "import h5py\n",
    "import trimesh\n",
    "import trimesh.path\n",
    "import trimesh.transformations as tra\n",
    "import numpy as np\n",
    "\n",
    "filename = args.input \n",
    "filename.endswith(\".h5\")\n",
    "\n",
    "scale=None\n",
    "\n",
    "data = h5py.File(filename, \"r\")\n",
    "mesh_fname = data[\"object/file\"][()].decode('utf-8')\n",
    "mesh_scale = data[\"object/scale\"][()] \n",
    "\n",
    "obj_mesh = trimesh.load(os.path.join(args.mesh_root, mesh_fname))\n",
    "obj_mesh = obj_mesh.apply_scale(mesh_scale)"
   ]
  },
  {
   "cell_type": "code",
   "execution_count": 46,
   "id": "475ec5ff",
   "metadata": {},
   "outputs": [
    {
     "data": {
      "text/plain": [
       "<trimesh.Trimesh(vertices.shape=(1167, 3), faces.shape=(2334, 3))>"
      ]
     },
     "execution_count": 46,
     "metadata": {},
     "output_type": "execute_result"
    }
   ],
   "source": [
    "obj_mesh"
   ]
  },
  {
   "cell_type": "code",
   "execution_count": 19,
   "id": "d5fe5081",
   "metadata": {},
   "outputs": [
    {
     "ename": "RuntimeError",
     "evalue": "('Unknown file ending:', 'd')",
     "output_type": "error",
     "traceback": [
      "\u001b[0;31m---------------------------------------------------------------------------\u001b[0m",
      "\u001b[0;31mRuntimeError\u001b[0m                              Traceback (most recent call last)",
      "Cell \u001b[0;32mIn[19], line 3\u001b[0m\n\u001b[1;32m      1\u001b[0m \u001b[38;5;28;01mfor\u001b[39;00m f \u001b[38;5;129;01min\u001b[39;00m args\u001b[38;5;241m.\u001b[39minput:\n\u001b[1;32m      2\u001b[0m     \u001b[38;5;66;03m# load object mesh\u001b[39;00m\n\u001b[0;32m----> 3\u001b[0m     obj_mesh \u001b[38;5;241m=\u001b[39m \u001b[43mload_mesh\u001b[49m\u001b[43m(\u001b[49m\u001b[43mf\u001b[49m\u001b[43m,\u001b[49m\u001b[43m \u001b[49m\u001b[43mmesh_root_dir\u001b[49m\u001b[38;5;241;43m=\u001b[39;49m\u001b[43margs\u001b[49m\u001b[38;5;241;43m.\u001b[39;49m\u001b[43mmesh_root\u001b[49m\u001b[43m)\u001b[49m\n\u001b[1;32m      5\u001b[0m     \u001b[38;5;66;03m# get transformations and quality of all simulated grasps\u001b[39;00m\n\u001b[1;32m      6\u001b[0m     T, success \u001b[38;5;241m=\u001b[39m load_grasps(f)\n",
      "File \u001b[0;32m~/acronym/acronym_tools/acronym.py:373\u001b[0m, in \u001b[0;36mload_mesh\u001b[0;34m(filename, mesh_root_dir, scale)\u001b[0m\n\u001b[1;32m    371\u001b[0m     mesh_scale \u001b[38;5;241m=\u001b[39m data[\u001b[38;5;124m\"\u001b[39m\u001b[38;5;124mobject/scale\u001b[39m\u001b[38;5;124m\"\u001b[39m][()] \u001b[38;5;28;01mif\u001b[39;00m scale \u001b[38;5;129;01mis\u001b[39;00m \u001b[38;5;28;01mNone\u001b[39;00m \u001b[38;5;28;01melse\u001b[39;00m scale\n\u001b[1;32m    372\u001b[0m \u001b[38;5;28;01melse\u001b[39;00m:\n\u001b[0;32m--> 373\u001b[0m     \u001b[38;5;28;01mraise\u001b[39;00m \u001b[38;5;167;01mRuntimeError\u001b[39;00m(\u001b[38;5;124m\"\u001b[39m\u001b[38;5;124mUnknown file ending:\u001b[39m\u001b[38;5;124m\"\u001b[39m, filename)\n\u001b[1;32m    375\u001b[0m obj_mesh \u001b[38;5;241m=\u001b[39m trimesh\u001b[38;5;241m.\u001b[39mload(os\u001b[38;5;241m.\u001b[39mpath\u001b[38;5;241m.\u001b[39mjoin(mesh_root_dir, mesh_fname))\n\u001b[1;32m    376\u001b[0m obj_mesh \u001b[38;5;241m=\u001b[39m obj_mesh\u001b[38;5;241m.\u001b[39mapply_scale(mesh_scale)\n",
      "\u001b[0;31mRuntimeError\u001b[0m: ('Unknown file ending:', 'd')"
     ]
    }
   ],
   "source": [
    "for f in args.input:\n",
    "    # load object mesh\n",
    "    obj_mesh = load_mesh(f, mesh_root_dir=args.mesh_root)\n",
    "\n",
    "    # get transformations and quality of all simulated grasps\n",
    "    T, success = load_grasps(f)\n",
    "\n",
    "    # create visual markers for grasps\n",
    "    successful_grasps = [\n",
    "        create_gripper_marker(color=[0, 255, 0]).apply_transform(t)\n",
    "        for t in T[np.random.choice(np.where(success == 1)[0], args.num_grasps)]\n",
    "    ]\n",
    "    failed_grasps = [\n",
    "        create_gripper_marker(color=[255, 0, 0]).apply_transform(t)\n",
    "        for t in T[np.random.choice(np.where(success == 0)[0], args.num_grasps)]\n",
    "    ]\n",
    "\n",
    "    trimesh.Scene([obj_mesh] + successful_grasps + failed_grasps).show()\n",
    "\n"
   ]
  },
  {
   "cell_type": "code",
   "execution_count": null,
   "id": "6c4ab17d",
   "metadata": {},
   "outputs": [],
   "source": []
  },
  {
   "cell_type": "code",
   "execution_count": null,
   "id": "442a8579",
   "metadata": {},
   "outputs": [],
   "source": []
  }
 ],
 "metadata": {
  "kernelspec": {
   "display_name": "contact_graspnet",
   "language": "python",
   "name": "contact_graspnet"
  },
  "language_info": {
   "codemirror_mode": {
    "name": "ipython",
    "version": 3
   },
   "file_extension": ".py",
   "mimetype": "text/x-python",
   "name": "python",
   "nbconvert_exporter": "python",
   "pygments_lexer": "ipython3",
   "version": "3.8.16"
  }
 },
 "nbformat": 4,
 "nbformat_minor": 5
}
