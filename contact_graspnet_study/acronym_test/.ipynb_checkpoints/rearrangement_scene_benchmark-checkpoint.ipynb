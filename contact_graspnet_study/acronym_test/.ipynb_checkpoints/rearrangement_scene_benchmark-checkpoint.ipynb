{
 "cells": [
  {
   "cell_type": "code",
   "execution_count": 1,
   "id": "4b46e0db",
   "metadata": {
    "scrolled": true
   },
   "outputs": [
    {
     "name": "stdout",
     "output_type": "stream",
     "text": [
      "*********************** \u001b[92mLogical States\u001b[0m ***********************\n",
      "OrderedDict([('Candle0',\n",
      "              {'on': \u001b[95mObject\u001b[0m(name=table, pos=[ 1.    -0.6    0.043])}),\n",
      "             ('Canister0',\n",
      "              {'on': \u001b[95mObject\u001b[0m(name=table, pos=[ 1.    -0.6    0.043])}),\n",
      "             ('Bowl0',\n",
      "              {'on': \u001b[95mObject\u001b[0m(name=table, pos=[ 1.    -0.6    0.043])}),\n",
      "             ('Xbox3600',\n",
      "              {'on': \u001b[95mObject\u001b[0m(name=table, pos=[ 1.    -0.6    0.043])}),\n",
      "             ('ben_cube0',\n",
      "              {'on': \u001b[95mObject\u001b[0m(name=table, pos=[ 1.    -0.6    0.043])}),\n",
      "             ('bottle0',\n",
      "              {'on': \u001b[95mObject\u001b[0m(name=table, pos=[ 1.    -0.6    0.043])}),\n",
      "             ('bottle1',\n",
      "              {'on': \u001b[95mObject\u001b[0m(name=table, pos=[ 1.    -0.6    0.043])}),\n",
      "             ('table',\n",
      "              {'static': True,\n",
      "               'support': [\u001b[95mObject\u001b[0m(name=Candle0, pos=[0.92390741 0.06588166 0.77217548]),\n",
      "                           \u001b[95mObject\u001b[0m(name=Canister0, pos=[ 0.46390346 -0.16931702  0.82167264]),\n",
      "                           \u001b[95mObject\u001b[0m(name=Bowl0, pos=[0.93137838 0.44118104 0.84895818]),\n",
      "                           \u001b[95mObject\u001b[0m(name=Xbox3600, pos=[0.76326203 0.17808106 0.8333241 ]),\n",
      "                           \u001b[95mObject\u001b[0m(name=ben_cube0, pos=[0.50914267 0.46193113 0.84779998]),\n",
      "                           \u001b[95mObject\u001b[0m(name=bottle0, pos=[ 0.67089685 -0.19416282  0.83593754]),\n",
      "                           \u001b[95mObject\u001b[0m(name=bottle1, pos=[0.4021646  0.19871038 0.83593753])]}),\n",
      "             ('robotiq140_gripper', {'holding': None})])\n",
      "***************************************************************\n",
      "\n",
      "*********************** \u001b[92mLogical States\u001b[0m ***********************\n",
      "OrderedDict([('Candle0',\n",
      "              {'on': \u001b[95mObject\u001b[0m(name=table, pos=[ 1.    -0.6    0.043])}),\n",
      "             ('Canister0',\n",
      "              {'on': \u001b[95mObject\u001b[0m(name=table, pos=[ 1.    -0.6    0.043])}),\n",
      "             ('Bowl0',\n",
      "              {'on': \u001b[95mObject\u001b[0m(name=table, pos=[ 1.    -0.6    0.043])}),\n",
      "             ('Xbox3600',\n",
      "              {'on': \u001b[95mObject\u001b[0m(name=table, pos=[ 1.    -0.6    0.043])}),\n",
      "             ('ben_cube0',\n",
      "              {'on': \u001b[95mObject\u001b[0m(name=table, pos=[ 1.    -0.6    0.043])}),\n",
      "             ('bottle0',\n",
      "              {'on': \u001b[95mObject\u001b[0m(name=table, pos=[ 1.    -0.6    0.043])}),\n",
      "             ('bottle1',\n",
      "              {'on': \u001b[95mObject\u001b[0m(name=table, pos=[ 1.    -0.6    0.043])}),\n",
      "             ('table',\n",
      "              {'static': True,\n",
      "               'support': [\u001b[95mObject\u001b[0m(name=Candle0, pos=[ 0.41007652 -0.54684461  0.81030546]),\n",
      "                           \u001b[95mObject\u001b[0m(name=Canister0, pos=[0.55147124 0.35943032 0.97859782]),\n",
      "                           \u001b[95mObject\u001b[0m(name=Bowl0, pos=[ 1.00852463 -0.39238615  0.80552819]),\n",
      "                           \u001b[95mObject\u001b[0m(name=Xbox3600, pos=[ 0.83680888 -0.1956635   0.8100709 ]),\n",
      "                           \u001b[95mObject\u001b[0m(name=ben_cube0, pos=[ 0.90810895 -0.15973106  0.84779998]),\n",
      "                           \u001b[95mObject\u001b[0m(name=bottle0, pos=[ 0.8876126  -0.60359108  0.87515735]),\n",
      "                           \u001b[95mObject\u001b[0m(name=bottle1, pos=[0.55691283 0.22578863 0.87515735])]}),\n",
      "             ('robotiq140_gripper', {'holding': None})])\n",
      "***************************************************************\n",
      "\n"
     ]
    }
   ],
   "source": [
    "from pytamp.benchmark import Rearrange1\n",
    "from pytamp.utils.making_scene_utils import load_mesh, get_obj_name, Make_Scene\n",
    "from pykin.utils.mesh_utils import get_object_mesh, get_object_mesh_acronym\n",
    "\n",
    "import easydict\n",
    "\n",
    "def custom_parser():\n",
    "    # object는 parser.add_argument( ~ , nargs=\"+\") , nargs=\"+\" 때문에 list로 arg 셋팅함\n",
    "    \n",
    "#     args = easydict.EasyDict({\n",
    "#         \"objects\" : [\"/home/juju/acronym/copied_data/grasps/Banana_ba0d56295321002718ddbf38fa69c501_0.009459827629638647.h5\", \"/home/juju/acronym/copied_data/grasps/Bag_b914f95b191ad7c27f91c3974257b780_0.012715081291695372.h5\", \"/home/juju/acronym/copied_data/grasps/Bowl_2efc35a3625fa50961a9876fa6384765_0.012449533111417973.h5\"],\n",
    "#         \"support\" : \"/home/juju/acronym/copied_data/grasps/3Shelves_29b66fc9db2f1558e0e89fd83955713c_0.0025867867973150068.h5\",\n",
    "#         \"num_grasps\" : 5,\n",
    "#         \"mesh_root\" : '/home/juju/acronym/copied_data/',\n",
    "#         \"support_scale\" : 0.025\n",
    "#     })\n",
    "\n",
    "    args = easydict.EasyDict({\n",
    "        \"objects\" : [\n",
    "#                     \"/home/juju/contact_graspnet/acronym/grasps/Candle_b94fcdffbd1befa57f5e345e9a3e5d44_0.012740999337464653.h5\", \n",
    "#                      \"/home/juju/contact_graspnet/acronym/grasps/Canister_714320da4aafcb4a47be2353d2b2403b_0.00023318612778400807.h5\", \n",
    "#                      \"/home/juju/contact_graspnet/acronym/grasps/Bowl_95ac294f47fd7d87e0b49f27ced29e3_0.0008357974151618388.h5\",\n",
    "#                     \"/home/juju/contact_graspnet/acronym/grasps/Xbox360_435f39e98d2260f0d6e21b8525c3f8bb_0.002061950217848804.h5\"\n",
    "                    ],\n",
    "        \n",
    "        \"support\" : \"/home/juju/contact_graspnet/acronym/grasps/3Shelves_29b66fc9db2f1558e0e89fd83955713c_0.0025867867973150068.h5\",\n",
    "        \"num_grasps\" : 5,\n",
    "        \"mesh_root\" : '/home/juju/contact_graspnet/acronym/',\n",
    "        \"support_scale\" : 0.025\n",
    "    })\n",
    "    return args\n",
    "\n",
    "obj_dict = {}\n",
    "\n",
    "args = custom_parser()\n",
    "\n",
    "args.objects.append('ben_cube.stl')\n",
    "args.objects.append('bottle.stl')\n",
    "args.objects.append('bottle.stl')\n",
    "\n",
    "obj_dict = {}\n",
    "object_meshes=[]\n",
    "object_names=[]\n",
    "\n",
    "for o in args.objects:\n",
    "    if '.h5' in o:\n",
    "        object_meshes.append(load_mesh(o, mesh_root_dir=args.mesh_root))\n",
    "        object_names.append(get_obj_name(obj_dict, o))\n",
    "    if '.stl' in o:\n",
    "        if 'cube' in o:\n",
    "            object_meshes.append(get_object_mesh(o, 0.075))\n",
    "            object_names.append(get_obj_name(obj_dict, o))\n",
    "        else:\n",
    "            object_meshes.append(get_object_mesh(o))\n",
    "            object_names.append(get_obj_name(obj_dict, o))\n",
    "\n",
    "# for PYTAMP \n",
    "support_mesh = get_object_mesh(\"ben_table.stl\", scale=[1.0, 1.5, 1.0])\n",
    "init_scene = Make_Scene.random_arrangement(object_names, object_meshes, support_mesh)\n",
    "goal_scene = Make_Scene.random_arrangement(object_names, object_meshes, support_mesh, for_goal_scene=True)\n",
    "\n",
    "rearrangement_scene = Rearrange1('doosan', object_names, init_scene, goal_scene, is_pyplot=False)\n",
    "\n",
    "# rearrangement_scene.init_scene.as_trimesh_scene().show()\n"
   ]
  },
  {
   "cell_type": "code",
   "execution_count": 4,
   "id": "004b1318",
   "metadata": {
    "scrolled": true
   },
   "outputs": [
    {
     "name": "stdout",
     "output_type": "stream",
     "text": [
      "{'table': \u001b[95mObject\u001b[0m(name=table, pos=[ 1.    -0.6    0.043]), 'Candle0': \u001b[95mObject\u001b[0m(name=Candle0, pos=[0.92390741 0.06588166 0.77217548]), 'Canister0': \u001b[95mObject\u001b[0m(name=Canister0, pos=[ 0.46390346 -0.16931702  0.82167264]), 'Bowl0': \u001b[95mObject\u001b[0m(name=Bowl0, pos=[0.93137838 0.44118104 0.84895818]), 'Xbox3600': \u001b[95mObject\u001b[0m(name=Xbox3600, pos=[0.76326203 0.17808106 0.8333241 ]), 'ben_cube0': \u001b[95mObject\u001b[0m(name=ben_cube0, pos=[0.50914267 0.46193113 0.84779998]), 'bottle0': \u001b[95mObject\u001b[0m(name=bottle0, pos=[ 0.67089685 -0.19416282  0.83593754]), 'bottle1': \u001b[95mObject\u001b[0m(name=bottle1, pos=[0.4021646  0.19871038 0.83593753])}\n"
     ]
    },
    {
     "data": {
      "image/png": "[encoded data removed]",
      "text/plain": [
       "<Figure size 1200x800 with 1 Axes>"
      ]
     },
     "metadata": {},
     "output_type": "display_data"
    }
   ],
   "source": [
    "from pykin.utils import plot_utils as p_utils\n",
    "\n",
    "fig, ax = p_utils.init_3d_figure(name=\"Benchmark 1\")\n",
    "\n",
    "rearrangement_scene.scene_mngr.render_scene(ax)\n",
    "rearrangement_scene.render_axis(rearrangement_scene.scene_mngr)\n",
    "rearrangement_scene.scene_mngr.show()\n"
   ]
  },
  {
   "cell_type": "code",
   "execution_count": 5,
   "id": "f272470e",
   "metadata": {
    "collapsed": true
   },
   "outputs": [
    {
     "name": "stdout",
     "output_type": "stream",
     "text": [
      "{'table': \u001b[95mObject\u001b[0m(name=table, pos=[ 1.    -0.6    0.043]), 'Candle0': \u001b[95mObject\u001b[0m(name=Candle0, pos=[ 0.41007652 -0.54684461  0.81030546]), 'Canister0': \u001b[95mObject\u001b[0m(name=Canister0, pos=[0.55147124 0.35943032 0.97859782]), 'Bowl0': \u001b[95mObject\u001b[0m(name=Bowl0, pos=[ 1.00852463 -0.39238615  0.80552819]), 'Xbox3600': \u001b[95mObject\u001b[0m(name=Xbox3600, pos=[ 0.83680888 -0.1956635   0.8100709 ]), 'ben_cube0': \u001b[95mObject\u001b[0m(name=ben_cube0, pos=[ 0.90810895 -0.15973106  0.84779998]), 'bottle0': \u001b[95mObject\u001b[0m(name=bottle0, pos=[ 0.8876126  -0.60359108  0.87515735]), 'bottle1': \u001b[95mObject\u001b[0m(name=bottle1, pos=[0.55691283 0.22578863 0.87515735])}\n"
     ]
    },
    {
     "data": {
      "image/png": "[encoded data removed]",
      "text/plain": [
       "<Figure size 1200x800 with 1 Axes>"
      ]
     },
     "metadata": {},
     "output_type": "display_data"
    }
   ],
   "source": [
    "from pykin.utils import plot_utils as p_utils\n",
    "\n",
    "fig, ax = p_utils.init_3d_figure(name=\"Benchmark 1\")\n",
    "\n",
    "rearrangement_scene.goal_scene_mngr.render_scene(ax)\n",
    "rearrangement_scene.render_axis(rearrangement_scene.goal_scene_mngr)\n",
    "rearrangement_scene.goal_scene_mngr.show()\n"
   ]
  },
  {
   "cell_type": "code",
   "execution_count": 7,
   "id": "63145c64",
   "metadata": {},
   "outputs": [],
   "source": [
    "import numpy as np\n",
    "from numpy import uint8\n",
    "obj_colors = [np.array([252,   2,  15], dtype=uint8), np.array([  2, 160, 252], dtype=uint8), np.array([  2, 252, 201], dtype=uint8), np.array([252, 243,   2], dtype=uint8), np.array([252,   2,  12], dtype=uint8), np.array([155,   2, 252], dtype=uint8), np.array([252,   2, 123], dtype=uint8)]"
   ]
  },
  {
   "cell_type": "code",
   "execution_count": 8,
   "id": "93d34cce",
   "metadata": {},
   "outputs": [
    {
     "data": {
      "text/plain": [
       "7"
      ]
     },
     "execution_count": 8,
     "metadata": {},
     "output_type": "execute_result"
    }
   ],
   "source": [
    "len(obj_colors)"
   ]
  },
  {
   "cell_type": "markdown",
   "id": "fac809ff",
   "metadata": {},
   "source": [
    "# rearrangement_scene test"
   ]
  },
  {
   "cell_type": "code",
   "execution_count": 2,
   "id": "4622d038",
   "metadata": {},
   "outputs": [],
   "source": [
    "import numpy as np\n",
    "rearrangement_scene.obj_colors = [np.array(rearrangement_scene.init_scene._objects[o_name].visual.face_colors[:,:3][0])   \\\n",
    "                    for o_name in rearrangement_scene.init_scene._objects.keys() \\\n",
    "                    if 'support' not in o_name]"
   ]
  },
  {
   "cell_type": "code",
   "execution_count": 3,
   "id": "3af9198b",
   "metadata": {},
   "outputs": [
    {
     "data": {
      "text/plain": [
       "[array([118,   2, 252], dtype=uint8),\n",
       " array([102,   2, 252], dtype=uint8),\n",
       " array([ 31, 252,   2], dtype=uint8),\n",
       " array([185, 252,   2], dtype=uint8),\n",
       " array([252, 177,   2], dtype=uint8),\n",
       " array([252, 220,   2], dtype=uint8),\n",
       " array([ 52, 252,   2], dtype=uint8)]"
      ]
     },
     "execution_count": 3,
     "metadata": {},
     "output_type": "execute_result"
    }
   ],
   "source": [
    "rearrangement_scene.obj_colors"
   ]
  },
  {
   "cell_type": "code",
   "execution_count": 16,
   "id": "2c6d421f",
   "metadata": {},
   "outputs": [],
   "source": [
    "logical_states = [(f\"{o_name}\", (\"on\", \"table\")) for o_name in rearrangement_scene.init_scene._objects.keys() if 'support' not in o_name]"
   ]
  },
  {
   "cell_type": "code",
   "execution_count": 17,
   "id": "5c6f3af8",
   "metadata": {},
   "outputs": [
    {
     "data": {
      "text/plain": [
       "[('Candle0', ('on', 'table')),\n",
       " ('Canister0', ('on', 'table')),\n",
       " ('Bowl0', ('on', 'table')),\n",
       " ('Xbox3600', ('on', 'table')),\n",
       " ('ben_cube0', ('on', 'table')),\n",
       " ('bottle0', ('on', 'table')),\n",
       " ('bottle1', ('on', 'table'))]"
      ]
     },
     "execution_count": 17,
     "metadata": {},
     "output_type": "execute_result"
    }
   ],
   "source": [
    "logical_states"
   ]
  },
  {
   "cell_type": "code",
   "execution_count": 5,
   "id": "79e0b670",
   "metadata": {},
   "outputs": [],
   "source": [
    "table_pose = rearrangement_scene.init_scene._poses['support_object']"
   ]
  },
  {
   "cell_type": "code",
   "execution_count": 6,
   "id": "e90d05de",
   "metadata": {},
   "outputs": [
    {
     "data": {
      "text/plain": [
       "array([[1., 0., 0., 0.],\n",
       "       [0., 1., 0., 0.],\n",
       "       [0., 0., 1., 0.],\n",
       "       [0., 0., 0., 1.]])"
      ]
     },
     "execution_count": 6,
     "metadata": {},
     "output_type": "execute_result"
    }
   ],
   "source": [
    "table_pose"
   ]
  },
  {
   "cell_type": "markdown",
   "id": "14fa6d3f",
   "metadata": {},
   "source": [
    "### Table Pose에 따른 object_pose transformation"
   ]
  },
  {
   "cell_type": "code",
   "execution_count": 7,
   "id": "e77ac2e9",
   "metadata": {},
   "outputs": [
    {
     "data": {
      "text/plain": [
       "array([[ 1.   ,  0.   ,  0.   ,  1.   ],\n",
       "       [ 0.   ,  1.   ,  0.   , -0.6  ],\n",
       "       [ 0.   ,  0.   ,  1.   ,  0.043],\n",
       "       [ 0.   ,  0.   ,  0.   ,  1.   ]])"
      ]
     },
     "execution_count": 7,
     "metadata": {},
     "output_type": "execute_result"
    }
   ],
   "source": [
    "rearrangement_scene.table_pose.h_mat@table_pose"
   ]
  },
  {
   "cell_type": "code",
   "execution_count": 8,
   "id": "04a09ab1",
   "metadata": {},
   "outputs": [
    {
     "data": {
      "text/plain": [
       "<bound method Trimesh.compute_stable_poses of <trimesh.Trimesh(vertices.shape=(32, 3), faces.shape=(48, 3))>>"
      ]
     },
     "execution_count": 8,
     "metadata": {},
     "output_type": "execute_result"
    }
   ],
   "source": [
    "rearrangement_scene.init_scene._objects['support_object']."
   ]
  },
  {
   "cell_type": "code",
   "execution_count": 10,
   "id": "2fd4691a",
   "metadata": {},
   "outputs": [
    {
     "data": {
      "text/plain": [
       "<trimesh.Scene(len(geometry)=0)>"
      ]
     },
     "execution_count": 10,
     "metadata": {},
     "output_type": "execute_result"
    }
   ],
   "source": [
    "import trimesh\n",
    "trimesh.scene.Scene()"
   ]
  },
  {
   "cell_type": "code",
   "execution_count": 11,
   "id": "baaad7e7",
   "metadata": {},
   "outputs": [
    {
     "data": {
      "text/plain": [
       "<trimesh.Scene(len(geometry)=0)>"
      ]
     },
     "execution_count": 11,
     "metadata": {},
     "output_type": "execute_result"
    }
   ],
   "source": [
    "trimesh.Scene()"
   ]
  },
  {
   "cell_type": "code",
   "execution_count": 13,
   "id": "f315b982",
   "metadata": {},
   "outputs": [
    {
     "data": {
      "text/plain": [
       "<pytamp.utils.making_scene_utils.Make_Scene at 0x7f9d80722340>"
      ]
     },
     "execution_count": 13,
     "metadata": {},
     "output_type": "execute_result"
    }
   ],
   "source": [
    "rearrangement_scene.init_scene."
   ]
  }
 ],
 "metadata": {
  "kernelspec": {
   "display_name": "contact_graspnet",
   "language": "python",
   "name": "contact_graspnet"
  },
  "language_info": {
   "codemirror_mode": {
    "name": "ipython",
    "version": 3
   },
   "file_extension": ".py",
   "mimetype": "text/x-python",
   "name": "python",
   "nbconvert_exporter": "python",
   "pygments_lexer": "ipython3",
   "version": "3.8.16"
  }
 },
 "nbformat": 4,
 "nbformat_minor": 5
}
