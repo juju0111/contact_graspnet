{
 "cells": [
  {
   "cell_type": "code",
   "execution_count": 1,
   "id": "473a2888",
   "metadata": {},
   "outputs": [],
   "source": [
    "import sys\n",
    "import json\n",
    "import h5py\n",
    "import trimesh\n",
    "from pathlib import Path\n",
    "import argparse\n",
    "import numpy as np\n",
    "import trimesh.path\n",
    "from shapely.geometry import Point\n",
    "\n",
    "from acronym_tools import Scene, load_mesh, load_grasps, create_gripper_marker\n",
    "import easydict"
   ]
  },
  {
   "cell_type": "code",
   "execution_count": 5,
   "id": "db0db940",
   "metadata": {},
   "outputs": [],
   "source": [
    "def custom_parser():\n",
    "    # object는 parser.add_argument( ~ , nargs=\"+\") , nargs=\"+\" 때문에 list로 arg 셋팅함\n",
    "    args = easydict.EasyDict({\n",
    "        \"objects\" : [\"/home/juju/acronym/data/grasps/Book_4698973d47c780654f48c7d5931203ac_0.01010965467789813.h5\", \"/home/juju/acronym/data/grasps/Bag_b914f95b191ad7c27f91c3974257b780_0.012715081291695372.h5\", \"/home/juju/acronym/data/grasps/Bowl_2efc35a3625fa50961a9876fa6384765_0.012449533111417973.h5\"],\n",
    "        \"support\" : \"/home/juju/acronym/data/grasps/3Shelves_29b66fc9db2f1558e0e89fd83955713c_0.0025867867973150068.h5\",\n",
    "        \"num_grasps\" : 5,\n",
    "        \"mesh_root\" : '/home/juju/acronym/data/',\n",
    "        \"support_scale\" : 0.025\n",
    "    })\n",
    "    return args"
   ]
  },
  {
   "cell_type": "code",
   "execution_count": 6,
   "id": "a9ccdd5b",
   "metadata": {},
   "outputs": [],
   "source": [
    "show_scene = True"
   ]
  },
  {
   "cell_type": "markdown",
   "id": "c5391912",
   "metadata": {},
   "source": [
    "### Pyrenderer"
   ]
  },
  {
   "cell_type": "code",
   "execution_count": 8,
   "id": "7b9bcfe9",
   "metadata": {},
   "outputs": [],
   "source": [
    "class PyrenderScene(Scene):\n",
    "    def as_pyrender_scene(self):\n",
    "        \"\"\"Return pyrender scene representation.\n",
    "\n",
    "        Returns:\n",
    "            pyrender.Scene: Representation of the scene\n",
    "        \"\"\"\n",
    "        pyrender_scene = pyrender.Scene()\n",
    "        for obj_id, obj_mesh in self._objects.items():\n",
    "            mesh = pyrender.Mesh.from_trimesh(obj_mesh, smooth=False)\n",
    "            pyrender_scene.add(mesh, name=obj_id, pose=self._poses[obj_id])\n",
    "        return pyrender_scene\n"
   ]
  },
  {
   "cell_type": "code",
   "execution_count": 25,
   "id": "702be8bd",
   "metadata": {},
   "outputs": [],
   "source": [
    "class SceneRenderer:\n",
    "    def __init__(\n",
    "        self,\n",
    "        pyrender_scene,\n",
    "        fov=np.pi / 6.0,\n",
    "        width=400,\n",
    "        height=400,\n",
    "        aspect_ratio=1.0,\n",
    "        z_near=0.001,\n",
    "    ):\n",
    "        \"\"\"Create an image renderer for a scene.\n",
    "\n",
    "        Args:\n",
    "            pyrender_scene (pyrender.Scene): Scene description including object meshes and their poses.\n",
    "            fov (float, optional): Field of view of camera. Defaults to np.pi/6.\n",
    "            width (int, optional): Width of camera sensor (in pixels). Defaults to 400.\n",
    "            height (int, optional): Height of camera sensor (in pixels). Defaults to 400.\n",
    "            aspect_ratio (float, optional): Aspect ratio of camera sensor. Defaults to 1.0.\n",
    "            z_near (float, optional): Near plane closer to which nothing is rendered. Defaults to 0.001.\n",
    "        \"\"\"\n",
    "        self._fov = fov\n",
    "        self._width = width\n",
    "        self._height = height\n",
    "        self._z_near = z_near\n",
    "        self._scene = pyrender_scene\n",
    "\n",
    "        self._camera = pyrender.PerspectiveCamera(\n",
    "            yfov=fov, aspectRatio=aspect_ratio, znear=z_near\n",
    "        )\n",
    "\n",
    "    def get_trimesh_camera(self):\n",
    "        \"\"\"Get a trimesh object representing the camera intrinsics.\n",
    "\n",
    "        Returns:\n",
    "            trimesh.scene.cameras.Camera: Intrinsic parameters of the camera model\n",
    "        \"\"\"\n",
    "        return trimesh.scene.cameras.Camera(\n",
    "            fov=(np.rad2deg(self._fov), np.rad2deg(self._fov)),\n",
    "            resolution=(self._height, self._width),\n",
    "            z_near=self._z_near,\n",
    "        )\n",
    "\n",
    "    def _to_pointcloud(self, depth):\n",
    "        \"\"\"Convert depth image to pointcloud given camera intrinsics.\n",
    "\n",
    "        Args:\n",
    "            depth (np.ndarray): Depth image.\n",
    "\n",
    "        Returns:\n",
    "            np.ndarray: Point cloud.\n",
    "        \"\"\"\n",
    "        fy = fx = 0.5 / np.tan(self._fov * 0.5)  # aspectRatio is one.\n",
    "        height = depth.shape[0]\n",
    "        width = depth.shape[1]\n",
    "\n",
    "        mask = np.where(depth > 0)\n",
    "\n",
    "        x = mask[1]\n",
    "        y = mask[0]\n",
    "\n",
    "        normalized_x = (x.astype(np.float32) - width * 0.5) / width\n",
    "        normalized_y = (y.astype(np.float32) - height * 0.5) / height\n",
    "\n",
    "        world_x = normalized_x * depth[y, x] / fx\n",
    "        world_y = normalized_y * depth[y, x] / fy\n",
    "        world_z = depth[y, x]\n",
    "        ones = np.ones(world_z.shape[0], dtype=np.float32)\n",
    "\n",
    "        return np.vstack((world_x, world_y, world_z, ones)).T\n",
    "\n",
    "    def render(self, camera_pose, target_id=\"\", render_pc=True):\n",
    "        \"\"\"Render RGB/depth image, point cloud, and segmentation mask of the scene.\n",
    "\n",
    "        Args:\n",
    "            camera_pose (np.ndarray): Homogenous 4x4 matrix describing the pose of the camera in scene coordinates.\n",
    "            target_id (str, optional): Object ID which is used to create the segmentation mask. Defaults to ''.\n",
    "            render_pc (bool, optional): If true, point cloud is also returned. Defaults to True.\n",
    "\n",
    "        Returns:\n",
    "            np.ndarray: Color image.\n",
    "            np.ndarray: Depth image.\n",
    "            np.ndarray: Point cloud.\n",
    "            np.ndarray: Segmentation mask.\n",
    "        \"\"\"\n",
    "        # Keep local to free OpenGl resources after use\n",
    "        renderer = pyrender.OffscreenRenderer(\n",
    "            viewport_width=self._width, viewport_height=self._height\n",
    "        )\n",
    "\n",
    "        # add camera and light to scene\n",
    "        scene = self._scene.as_pyrender_scene()\n",
    "        scene.add(self._camera, pose=camera_pose, name=\"camera\")\n",
    "        light = pyrender.SpotLight(\n",
    "            color=np.ones(4),\n",
    "            intensity=3.0,\n",
    "            innerConeAngle=np.pi / 16,\n",
    "            outerConeAngle=np.pi / 6.0,\n",
    "        )\n",
    "        scene.add(light, pose=camera_pose, name=\"light\")\n",
    "\n",
    "        # render the full scene\n",
    "        color, depth = renderer.render(scene)\n",
    "\n",
    "        segmentation = np.zeros(depth.shape, dtype=np.uint8)\n",
    "\n",
    "        # hide all objects\n",
    "        for node in scene.mesh_nodes:\n",
    "            node.mesh.is_visible = False\n",
    "\n",
    "        # Render only target object and add to segmentation mask\n",
    "        for node in scene.mesh_nodes:\n",
    "            if node.name == target_id:\n",
    "                node.mesh.is_visible = True\n",
    "                _, object_depth = renderer.render(scene)\n",
    "                mask = np.logical_and(\n",
    "                    (np.abs(object_depth - depth) < 1e-6), np.abs(depth) > 0\n",
    "                )\n",
    "                segmentation[mask] = 1\n",
    "\n",
    "        for node in scene.mesh_nodes:\n",
    "            node.mesh.is_visible = True\n",
    "\n",
    "        if render_pc:\n",
    "            pc = self._to_pointcloud(depth)\n",
    "        else:\n",
    "            pc = None\n",
    "\n",
    "        return color, depth, pc, segmentation\n",
    "\n",
    "import pyrender\n",
    "import matplotlib.pyplot as plt\n"
   ]
  },
  {
   "cell_type": "markdown",
   "id": "26fb8799",
   "metadata": {},
   "source": [
    "# Main"
   ]
  },
  {
   "cell_type": "code",
   "execution_count": 26,
   "id": "78f908ab",
   "metadata": {},
   "outputs": [],
   "source": [
    "args = custom_parser()"
   ]
  },
  {
   "cell_type": "code",
   "execution_count": 27,
   "id": "3304980c",
   "metadata": {},
   "outputs": [],
   "source": [
    "object_meshes = [load_mesh(o, mesh_root_dir=args.mesh_root) for o in args.objects]\n",
    "support_mesh = load_mesh(\n",
    "    args.support, mesh_root_dir=args.mesh_root, scale=args.support_scale\n",
    ")\n",
    "scene = PyrenderScene.random_arrangement(object_meshes, support_mesh)\n",
    "\n",
    "target_obj = \"obj0\""
   ]
  },
  {
   "cell_type": "code",
   "execution_count": 28,
   "id": "4f452425",
   "metadata": {},
   "outputs": [],
   "source": [
    "# choose camera intrinsics and extrinsics\n",
    "renderer = SceneRenderer(scene)\n",
    "trimesh_camera = renderer.get_trimesh_camera()\n",
    "camera_pose = trimesh_camera.look_at(\n",
    "    points=[scene.get_transform(target_obj, frame=\"com\")[:3, 3]],\n",
    "    rotation=trimesh.transformations.euler_matrix(\n",
    "        np.random.uniform(low=np.pi / 4, high=np.pi / 3),\n",
    "        0,\n",
    "        np.random.uniform(low=-np.pi, high=np.pi),\n",
    "    ),\n",
    "    distance=np.random.uniform(low=0.7, high=0.9),\n",
    ")\n"
   ]
  },
  {
   "cell_type": "code",
   "execution_count": 29,
   "id": "b665dccd",
   "metadata": {},
   "outputs": [],
   "source": [
    "\n",
    "if show_scene:\n",
    "    # show scene, including a marker representing the camera\n",
    "    trimesh_scene = scene.colorize({target_obj: [255, 0, 0]}).as_trimesh_scene()\n",
    "    trimesh_scene.add_geometry(\n",
    "        trimesh.creation.camera_marker(trimesh_camera),\n",
    "        node_name=\"camera\",\n",
    "        transform=camera_pose.dot(\n",
    "            trimesh.transformations.euler_matrix(np.pi, 0, 0)\n",
    "        ),\n",
    "    )\n",
    "    trimesh_scene.show()\n",
    "\n",
    "# render observations\n",
    "color, depth, pc, segmentation = renderer.render(\n",
    "    camera_pose=camera_pose, target_id=target_obj\n",
    ")\n"
   ]
  },
  {
   "cell_type": "code",
   "execution_count": 53,
   "id": "800af389",
   "metadata": {},
   "outputs": [
    {
     "data": {
      "text/plain": [
       "129662"
      ]
     },
     "execution_count": 53,
     "metadata": {},
     "output_type": "execute_result"
    }
   ],
   "source": [
    "len(pc)"
   ]
  },
  {
   "cell_type": "code",
   "execution_count": 54,
   "id": "a7ce0b59",
   "metadata": {},
   "outputs": [
    {
     "data": {
      "text/plain": [
       "0.590269"
      ]
     },
     "execution_count": 54,
     "metadata": {},
     "output_type": "execute_result"
    }
   ],
   "source": [
    "np.min(pc[:,2])"
   ]
  },
  {
   "cell_type": "code",
   "execution_count": 51,
   "id": "78125789",
   "metadata": {},
   "outputs": [
    {
     "data": {
      "text/plain": [
       "(array([129344, 129345, 129346, 129347, 129348, 129349, 129350, 129351,\n",
       "        129352, 129353, 129354, 129355, 129356, 129357, 129358, 129359,\n",
       "        129360, 129361, 129362, 129363, 129364, 129365, 129366, 129367,\n",
       "        129368, 129369, 129370, 129371, 129372, 129373, 129374, 129375,\n",
       "        129376, 129377, 129378, 129379, 129380, 129381, 129382, 129383,\n",
       "        129384, 129385, 129386, 129387, 129388, 129389, 129390, 129391,\n",
       "        129392, 129393, 129394, 129395, 129396, 129397, 129398, 129399,\n",
       "        129400, 129401, 129402, 129403, 129404, 129405, 129406, 129407,\n",
       "        129408, 129409, 129410, 129411, 129412, 129413, 129414, 129415,\n",
       "        129416, 129417, 129418, 129419, 129420, 129421, 129422, 129423,\n",
       "        129424, 129425, 129426, 129427, 129428, 129429, 129430, 129431,\n",
       "        129432, 129433, 129434, 129435, 129436, 129437, 129438, 129439,\n",
       "        129440, 129441, 129442, 129443, 129444, 129445, 129446, 129447,\n",
       "        129448, 129449, 129450, 129451, 129452, 129453, 129454, 129455,\n",
       "        129456, 129457, 129458, 129459, 129460, 129461, 129462, 129463,\n",
       "        129464, 129465, 129466, 129467, 129468, 129469, 129470, 129471,\n",
       "        129472, 129473, 129474, 129475, 129476, 129477, 129478]),)"
      ]
     },
     "execution_count": 51,
     "metadata": {},
     "output_type": "execute_result"
    }
   ],
   "source": [
    "np.where(pc[:,2] == np.min(pc[:,2]))"
   ]
  },
  {
   "cell_type": "code",
   "execution_count": 57,
   "id": "6d7e3ab0",
   "metadata": {},
   "outputs": [
    {
     "data": {
      "text/plain": [
       "(array([-0.1573713,  0.1573713,  0.590269 ,  1.       ], dtype=float32),\n",
       " array([-0.05614755,  0.1573713 ,  0.590269  ,  1.        ], dtype=float32))"
      ]
     },
     "execution_count": 57,
     "metadata": {},
     "output_type": "execute_result"
    }
   ],
   "source": [
    "pc[129345],pc[129473]"
   ]
  },
  {
   "cell_type": "code",
   "execution_count": 31,
   "id": "3737a551",
   "metadata": {},
   "outputs": [
    {
     "data": {
      "image/png": "[encoded data removed]",
      "text/plain": [
       "<Figure size 640x480 with 6 Axes>"
      ]
     },
     "metadata": {},
     "output_type": "display_data"
    }
   ],
   "source": [
    "# plot everything except point cloud\n",
    "f, axarr = plt.subplots(1, 3)\n",
    "im = axarr[0].imshow(color)\n",
    "f.colorbar(im, ax=axarr[0])\n",
    "im = axarr[1].imshow(depth)\n",
    "f.colorbar(im, ax=axarr[1])\n",
    "im = axarr[2].imshow(segmentation)\n",
    "f.colorbar(im, ax=axarr[2])\n",
    "plt.show()\n"
   ]
  },
  {
   "cell_type": "code",
   "execution_count": null,
   "id": "d901b3c0",
   "metadata": {},
   "outputs": [],
   "source": []
  },
  {
   "cell_type": "code",
   "execution_count": null,
   "id": "4fbbfa4a",
   "metadata": {},
   "outputs": [],
   "source": []
  },
  {
   "cell_type": "code",
   "execution_count": null,
   "id": "e964b1d0",
   "metadata": {},
   "outputs": [],
   "source": []
  },
  {
   "cell_type": "code",
   "execution_count": null,
   "id": "f41455db",
   "metadata": {},
   "outputs": [],
   "source": []
  },
  {
   "cell_type": "code",
   "execution_count": null,
   "id": "25bdf1e7",
   "metadata": {},
   "outputs": [],
   "source": []
  },
  {
   "cell_type": "code",
   "execution_count": null,
   "id": "ba5666f5",
   "metadata": {},
   "outputs": [],
   "source": []
  },
  {
   "cell_type": "code",
   "execution_count": null,
   "id": "f650c3c0",
   "metadata": {},
   "outputs": [],
   "source": []
  }
 ],
 "metadata": {
  "kernelspec": {
   "display_name": "contact_graspnet",
   "language": "python",
   "name": "contact_graspnet"
  },
  "language_info": {
   "codemirror_mode": {
    "name": "ipython",
    "version": 3
   },
   "file_extension": ".py",
   "mimetype": "text/x-python",
   "name": "python",
   "nbconvert_exporter": "python",
   "pygments_lexer": "ipython3",
   "version": "3.8.16"
  }
 },
 "nbformat": 4,
 "nbformat_minor": 5
}
