{
 "cells": [
  {
   "cell_type": "markdown",
   "id": "75decf92",
   "metadata": {},
   "source": [
    "## ACRONYM Visual test"
   ]
  },
  {
   "cell_type": "code",
   "execution_count": 1,
   "id": "9d70c301",
   "metadata": {},
   "outputs": [
    {
     "data": {
      "text/plain": [
       "['/home/juju/contact_graspnet/contact_graspnet_study/acronym_test',\n",
       " '/home/juju/contact_graspnet/contact_graspnet_study/acronym_test',\n",
       " '/home/juju/contact_graspnet',\n",
       " '/home/juju/anaconda3/envs/contact_graspnet/lib/python38.zip',\n",
       " '/home/juju/anaconda3/envs/contact_graspnet/lib/python3.8',\n",
       " '/home/juju/anaconda3/envs/contact_graspnet/lib/python3.8/lib-dynload',\n",
       " '',\n",
       " '/home/juju/.local/lib/python3.8/site-packages',\n",
       " '/home/juju/.local/lib/python3.8/site-packages/pycocotools-2.0-py3.8-linux-x86_64.egg',\n",
       " '/home/juju/anaconda3/envs/mmpose/lib/python3.8/site-packages',\n",
       " '/home/juju/anaconda3/envs/contact_graspnet/lib/python3.8/site-packages',\n",
       " '/home/juju/acronym']"
      ]
     },
     "execution_count": 1,
     "metadata": {},
     "output_type": "execute_result"
    }
   ],
   "source": [
    "import sys,os\n",
    "import json\n",
    "import trimesh\n",
    "import argparse\n",
    "import numpy as np\n",
    "\n",
    "from acronym_tools import load_mesh, load_grasps, create_gripper_marker\n",
    "\n",
    "sys.path"
   ]
  },
  {
   "cell_type": "markdown",
   "id": "a4644f53",
   "metadata": {},
   "source": [
    "### Parsing \n"
   ]
  },
  {
   "cell_type": "code",
   "execution_count": 2,
   "id": "bac5792e",
   "metadata": {},
   "outputs": [],
   "source": [
    "def make_parser():\n",
    "    parser = argparse.ArgumentParser(\n",
    "        description=\"Visualize grasps from the dataset.\",\n",
    "        formatter_class=argparse.ArgumentDefaultsHelpFormatter,\n",
    "    )\n",
    "    parser.add_argument(\"input\", nargs=\"+\", help=\"HDF5 or JSON Grasp file(s).\")\n",
    "    parser.add_argument(\n",
    "        \"--num_grasps\", type=int, default=20, help=\"Number of grasps to show.\"\n",
    "    )\n",
    "    parser.add_argument(\n",
    "        \"--mesh_root\", default=\".\", help=\"Directory used for loading meshes.\"\n",
    "    )\n",
    "    \n",
    "    return parser\n",
    "\n",
    "import easydict\n",
    "\n",
    "def custom_parser():\n",
    "    args = easydict.EasyDict({\n",
    "        \"input\" : [\"/home/juju/acronym/data/examples/grasps/Mug_10f6e09036350e92b3f21f1137c3c347_0.0002682457830986903.h5\", \"/home/juju/acronym/data/examples/grasps/Mug_10f6e09036350e92b3f21f1137c3c347_0.0002682457830986903.h5\"],\n",
    "        \"num_grasps\" : 5,\n",
    "        \"mesh_root\" : '/home/juju/acronym/data/examples/'\n",
    "    })\n",
    "    return args"
   ]
  },
  {
   "cell_type": "code",
   "execution_count": 3,
   "id": "3ca7b620",
   "metadata": {},
   "outputs": [
    {
     "data": {
      "text/plain": [
       "{'input': ['/home/juju/acronym/data/examples/grasps/Mug_10f6e09036350e92b3f21f1137c3c347_0.0002682457830986903.h5',\n",
       "  '/home/juju/acronym/data/examples/grasps/Mug_10f6e09036350e92b3f21f1137c3c347_0.0002682457830986903.h5'],\n",
       " 'num_grasps': 5,\n",
       " 'mesh_root': '/home/juju/acronym/data/examples/'}"
      ]
     },
     "execution_count": 3,
     "metadata": {},
     "output_type": "execute_result"
    }
   ],
   "source": [
    "args = custom_parser()\n",
    "args"
   ]
  },
  {
   "cell_type": "markdown",
   "id": "47fdab30",
   "metadata": {},
   "source": [
    "### load mesh"
   ]
  },
  {
   "cell_type": "code",
   "execution_count": 4,
   "id": "533b3ac3",
   "metadata": {},
   "outputs": [],
   "source": [
    "import os\n",
    "import json\n",
    "import h5py\n",
    "import trimesh\n",
    "import trimesh.path\n",
    "import trimesh.transformations as tra\n",
    "import numpy as np\n",
    "\n",
    "filename = args.input[0] \n",
    "filename.endswith(\".h5\")\n",
    "\n",
    "scale=None\n",
    "\n",
    "data = h5py.File(filename, \"r\")\n",
    "mesh_fname = data[\"object/file\"][()].decode('utf-8')\n",
    "mesh_scale = data[\"object/scale\"][()] \n",
    "\n",
    "obj_mesh = trimesh.load(os.path.join(args.mesh_root, mesh_fname))\n",
    "obj_mesh = obj_mesh.apply_scale(mesh_scale)"
   ]
  },
  {
   "cell_type": "code",
   "execution_count": 5,
   "id": "c7e84797",
   "metadata": {},
   "outputs": [
    {
     "data": {
      "text/plain": [
       "'meshes/Mug/10f6e09036350e92b3f21f1137c3c347.obj'"
      ]
     },
     "execution_count": 5,
     "metadata": {},
     "output_type": "execute_result"
    }
   ],
   "source": [
    "mesh_fname"
   ]
  },
  {
   "cell_type": "markdown",
   "id": "9aa1ba26",
   "metadata": {},
   "source": [
    "### load grasps"
   ]
  },
  {
   "cell_type": "code",
   "execution_count": 6,
   "id": "af94c73e",
   "metadata": {},
   "outputs": [],
   "source": [
    "filename = args.input[0] \n",
    "filename.endswith(\".h5\")\n",
    "\n",
    "data = h5py.File(filename, \"r\")\n",
    "T = np.array(data[\"grasps/transforms\"])\n",
    "success = np.array(data[\"grasps/qualities/flex/object_in_gripper\"])"
   ]
  },
  {
   "cell_type": "code",
   "execution_count": 7,
   "id": "e537e29f",
   "metadata": {},
   "outputs": [
    {
     "data": {
      "text/plain": [
       "array([0, 0, 0, ..., 1, 1, 0])"
      ]
     },
     "execution_count": 7,
     "metadata": {},
     "output_type": "execute_result"
    }
   ],
   "source": [
    "success"
   ]
  },
  {
   "cell_type": "markdown",
   "id": "a46e996c",
   "metadata": {},
   "source": [
    "### create_gripper_marker"
   ]
  },
  {
   "cell_type": "code",
   "execution_count": 8,
   "id": "6f9c6c97",
   "metadata": {},
   "outputs": [
    {
     "ename": "NameError",
     "evalue": "name 'sections' is not defined",
     "output_type": "error",
     "traceback": [
      "\u001b[0;31m---------------------------------------------------------------------------\u001b[0m",
      "\u001b[0;31mNameError\u001b[0m                                 Traceback (most recent call last)",
      "Cell \u001b[0;32mIn[8], line 14\u001b[0m\n\u001b[1;32m      1\u001b[0m \u001b[38;5;66;03m# successful_grasps = [\u001b[39;00m\n\u001b[1;32m      2\u001b[0m \u001b[38;5;66;03m#     create_gripper_marker(color=[0, 255, 0]).apply_transform(t)\u001b[39;00m\n\u001b[1;32m      3\u001b[0m \u001b[38;5;66;03m#     for t in T[np.random.choice(np.where(success == 1)[0], args.num_grasps)]\u001b[39;00m\n\u001b[0;32m   (...)\u001b[0m\n\u001b[1;32m      9\u001b[0m \n\u001b[1;32m     10\u001b[0m \u001b[38;5;66;03m# color=[0, 0, 255], tube_radius=0.001, sections=6\u001b[39;00m\n\u001b[1;32m     12\u001b[0m cfl \u001b[38;5;241m=\u001b[39m trimesh\u001b[38;5;241m.\u001b[39mcreation\u001b[38;5;241m.\u001b[39mcylinder(\n\u001b[1;32m     13\u001b[0m     radius\u001b[38;5;241m=\u001b[39m\u001b[38;5;241m0.002\u001b[39m,\n\u001b[0;32m---> 14\u001b[0m     sections\u001b[38;5;241m=\u001b[39m\u001b[43msections\u001b[49m,\n\u001b[1;32m     15\u001b[0m     segment\u001b[38;5;241m=\u001b[39m[\n\u001b[1;32m     16\u001b[0m         [\u001b[38;5;241m4.10000000e-02\u001b[39m, \u001b[38;5;241m-\u001b[39m\u001b[38;5;241m7.27595772e-12\u001b[39m, \u001b[38;5;241m6.59999996e-02\u001b[39m],\n\u001b[1;32m     17\u001b[0m         [\u001b[38;5;241m4.10000000e-02\u001b[39m, \u001b[38;5;241m-\u001b[39m\u001b[38;5;241m7.27595772e-12\u001b[39m, \u001b[38;5;241m1.12169998e-01\u001b[39m],\n\u001b[1;32m     18\u001b[0m     ],\n\u001b[1;32m     19\u001b[0m )\n\u001b[1;32m     20\u001b[0m cfr \u001b[38;5;241m=\u001b[39m trimesh\u001b[38;5;241m.\u001b[39mcreation\u001b[38;5;241m.\u001b[39mcylinder(\n\u001b[1;32m     21\u001b[0m     radius\u001b[38;5;241m=\u001b[39m\u001b[38;5;241m0.002\u001b[39m,\n\u001b[1;32m     22\u001b[0m     sections\u001b[38;5;241m=\u001b[39msections,\n\u001b[0;32m   (...)\u001b[0m\n\u001b[1;32m     26\u001b[0m     ],\n\u001b[1;32m     27\u001b[0m )\n\u001b[1;32m     28\u001b[0m cb1 \u001b[38;5;241m=\u001b[39m trimesh\u001b[38;5;241m.\u001b[39mcreation\u001b[38;5;241m.\u001b[39mcylinder(\n\u001b[1;32m     29\u001b[0m     radius\u001b[38;5;241m=\u001b[39m\u001b[38;5;241m0.002\u001b[39m, sections\u001b[38;5;241m=\u001b[39msections, segment\u001b[38;5;241m=\u001b[39m[[\u001b[38;5;241m0\u001b[39m, \u001b[38;5;241m0\u001b[39m, \u001b[38;5;241m0\u001b[39m], [\u001b[38;5;241m0\u001b[39m, \u001b[38;5;241m0\u001b[39m, \u001b[38;5;241m6.59999996e-02\u001b[39m]]\n\u001b[1;32m     30\u001b[0m )\n",
      "\u001b[0;31mNameError\u001b[0m: name 'sections' is not defined"
     ]
    }
   ],
   "source": [
    "# successful_grasps = [\n",
    "#     create_gripper_marker(color=[0, 255, 0]).apply_transform(t)\n",
    "#     for t in T[np.random.choice(np.where(success == 1)[0], args.num_grasps)]\n",
    "# ]\n",
    "# failed_grasps = [\n",
    "#     create_gripper_marker(color=[255, 0, 0]).apply_transform(t)\n",
    "#     for t in T[np.random.choice(np.where(success == 0)[0], args.num_grasps)]\n",
    "# ]\n",
    "\n",
    "# color=[0, 0, 255], tube_radius=0.001, sections=6\n",
    "\n",
    "cfl = trimesh.creation.cylinder(\n",
    "    radius=0.002,\n",
    "    sections=sections,\n",
    "    segment=[\n",
    "        [4.10000000e-02, -7.27595772e-12, 6.59999996e-02],\n",
    "        [4.10000000e-02, -7.27595772e-12, 1.12169998e-01],\n",
    "    ],\n",
    ")\n",
    "cfr = trimesh.creation.cylinder(\n",
    "    radius=0.002,\n",
    "    sections=sections,\n",
    "    segment=[\n",
    "        [-4.100000e-02, -7.27595772e-12, 6.59999996e-02],\n",
    "        [-4.100000e-02, -7.27595772e-12, 1.12169998e-01],\n",
    "    ],\n",
    ")\n",
    "cb1 = trimesh.creation.cylinder(\n",
    "    radius=0.002, sections=sections, segment=[[0, 0, 0], [0, 0, 6.59999996e-02]]\n",
    ")\n",
    "cb2 = trimesh.creation.cylinder(\n",
    "    radius=0.002,\n",
    "    sections=sections,\n",
    "    segment=[[-4.100000e-02, 0, 6.59999996e-02], [4.100000e-02, 0, 6.59999996e-02]],\n",
    ")\n",
    "\n",
    "tmp = trimesh.util.concatenate([cb1, cb2, cfr, cfl])\n",
    "tmp.visual.face_colors = color"
   ]
  },
  {
   "cell_type": "code",
   "execution_count": 9,
   "id": "475ec5ff",
   "metadata": {},
   "outputs": [
    {
     "data": {
      "text/plain": [
       "'meshes/Mug/10f6e09036350e92b3f21f1137c3c347.obj'"
      ]
     },
     "execution_count": 9,
     "metadata": {},
     "output_type": "execute_result"
    }
   ],
   "source": [
    "mesh_fname"
   ]
  },
  {
   "cell_type": "code",
   "execution_count": 10,
   "id": "d5fe5081",
   "metadata": {},
   "outputs": [
    {
     "name": "stdout",
     "output_type": "stream",
     "text": [
      "/home/juju/acronym/data/examples/grasps/Mug_10f6e09036350e92b3f21f1137c3c347_0.0002682457830986903.h5\n",
      "/home/juju/acronym/data/examples/grasps/Mug_10f6e09036350e92b3f21f1137c3c347_0.0002682457830986903.h5\n"
     ]
    }
   ],
   "source": [
    "for f in args.input:\n",
    "    # load object mesh\n",
    "    print(f)\n",
    "    obj_mesh = load_mesh(f, mesh_root_dir=args.mesh_root)\n",
    "\n",
    "    # get transformations and quality of all simulated grasps\n",
    "    T, success = load_grasps(f)\n",
    "\n",
    "    # create visual markers for grasps\n",
    "    successful_grasps = [\n",
    "        create_gripper_marker(color=[0, 255, 0]).apply_transform(t)\n",
    "        for t in T[np.random.choice(np.where(success == 1)[0], args.num_grasps)]\n",
    "    ]\n",
    "    failed_grasps = [\n",
    "        create_gripper_marker(color=[255, 0, 0]).apply_transform(t)\n",
    "        for t in T[np.random.choice(np.where(success == 0)[0], args.num_grasps)]\n",
    "    ]\n",
    "\n",
    "    Scene = trimesh.Scene([obj_mesh] + successful_grasps + failed_grasps)\n"
   ]
  },
  {
   "cell_type": "code",
   "execution_count": 11,
   "id": "442a8579",
   "metadata": {},
   "outputs": [
    {
     "ename": "AttributeError",
     "evalue": "module 'trimesh' has no attribute 'viewer'",
     "output_type": "error",
     "traceback": [
      "\u001b[0;31m---------------------------------------------------------------------------\u001b[0m",
      "\u001b[0;31mAttributeError\u001b[0m                            Traceback (most recent call last)",
      "Cell \u001b[0;32mIn[11], line 2\u001b[0m\n\u001b[1;32m      1\u001b[0m \u001b[38;5;66;03m# trimesh.viewer.notebook.in_notebook()\u001b[39;00m\n\u001b[0;32m----> 2\u001b[0m \u001b[43mtrimesh\u001b[49m\u001b[38;5;241;43m.\u001b[39;49m\u001b[43mviewer\u001b[49m\u001b[38;5;241m.\u001b[39mnotebook\u001b[38;5;241m.\u001b[39mscene_to_notebook(Scene)\n",
      "\u001b[0;31mAttributeError\u001b[0m: module 'trimesh' has no attribute 'viewer'"
     ]
    }
   ],
   "source": [
    "# trimesh.viewer.notebook.in_notebook()\n",
    "trimesh.viewer.notebook.scene_to_notebook(Scene)"
   ]
  },
  {
   "cell_type": "code",
   "execution_count": null,
   "id": "a8d8739a",
   "metadata": {},
   "outputs": [],
   "source": []
  },
  {
   "cell_type": "code",
   "execution_count": null,
   "id": "cd237cc6",
   "metadata": {},
   "outputs": [],
   "source": []
  },
  {
   "cell_type": "code",
   "execution_count": 113,
   "id": "7487e65c",
   "metadata": {},
   "outputs": [
    {
     "data": {
      "text/plain": [
       "array([[-0.03810737, -0.06301068,  0.05142949],\n",
       "       [ 0.03806329,  0.03802388,  0.15249297]])"
      ]
     },
     "execution_count": 113,
     "metadata": {},
     "output_type": "execute_result"
    }
   ],
   "source": [
    "obj_mesh.bounds"
   ]
  },
  {
   "cell_type": "code",
   "execution_count": null,
   "id": "8fd90216",
   "metadata": {},
   "outputs": [],
   "source": []
  },
  {
   "cell_type": "code",
   "execution_count": null,
   "id": "73174338",
   "metadata": {},
   "outputs": [],
   "source": []
  },
  {
   "cell_type": "code",
   "execution_count": null,
   "id": "fc7eace0",
   "metadata": {},
   "outputs": [],
   "source": []
  },
  {
   "cell_type": "code",
   "execution_count": null,
   "id": "f8d8b7ec",
   "metadata": {},
   "outputs": [],
   "source": []
  },
  {
   "cell_type": "code",
   "execution_count": null,
   "id": "0e59715b",
   "metadata": {},
   "outputs": [],
   "source": []
  }
 ],
 "metadata": {
  "kernelspec": {
   "display_name": "contact_graspnet",
   "language": "python",
   "name": "contact_graspnet"
  },
  "language_info": {
   "codemirror_mode": {
    "name": "ipython",
    "version": 3
   },
   "file_extension": ".py",
   "mimetype": "text/x-python",
   "name": "python",
   "nbconvert_exporter": "python",
   "pygments_lexer": "ipython3",
   "version": "3.8.16"
  }
 },
 "nbformat": 4,
 "nbformat_minor": 5
}
